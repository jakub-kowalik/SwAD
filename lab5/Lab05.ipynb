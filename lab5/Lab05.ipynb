{
 "cells": [
  {
   "cell_type": "markdown",
   "metadata": {
    "pycharm": {
     "name": "#%% md\n"
    }
   },
   "source": [
    "# Statystyka w Analizie Danych\n",
    "\n",
    "## Laboratorium 5 - algorytm normalizacja, selekcja cech.\n",
    "\n",
    "\n",
    "### Opis\n",
    "Celem laboratorium jest przeprowadzenie normalizacji i selekcji cech.\n",
    "\n",
    "\n",
    "### Zbiór danych\n",
    "\n",
    "Zbiór danych znajduje się w katalogu `dataset/*`. Jest to zmodyfikowany zbiór danych znajdujący się pod adresem: <https://archive.ics.uci.edu/ml/datasets/leaf>.\n",
    "\n",
    "### Przesyłanie zadań\n",
    "\n",
    "Wszystkie pliki należy spakować archiwizatorem **zip** i przesłać za pośrednictwem platformy WIKAMP. Poniżej oczekiwana zawartość archiwum:\n",
    "\n",
    "```\n",
    "+-- 📂 [IMIE.NAZWISKO].zip\n",
    "    +-- 📜 Lab05.ipynb\n",
    "    +-- 📂 dataset\n",
    "        +-- 📜 dataset.npz\n",
    "        +-- 📜 ReadMe.pdf\n",
    "```\n",
    "\n",
    "**Pamiętaj, wyniki powinny być czytelnie opisane oraz zaprezentowane graficznie (jeżeli jest taka możliwość).**\n",
    "\n",
    "Przykład (na podstawie tablicy pomyłek):\n",
    "\n",
    "**Źle** (nie wiadomo co jest poniżej zaprezentowane, kolumny ani wiersze nie są podpisane, nie wiadomo które z nich prezentują predykcje, a które właściwe etykiety):\n",
    "```\n",
    "array([[2, 0, 0],\n",
    "       [0, 0, 1],\n",
    "       [1, 0, 2]])\n",
    "```\n",
    "\n",
    "### Zadanie\n",
    "\n",
    "Należy wykonać następujące czynności w celu realizacji niniejszego zadania:\n",
    "\n",
    "#### Normalizacja\n",
    "* Wczytaj dane.\n",
    "* Znormalizuj dane.\n",
    "* Przeprowadź eksperyment z zastosowaniem algorytmu kNN lub NM dla danych znormalizowanych oraz bez normalizacji.\n",
    "    * W eksperymencie wybierz 5 klas oraz 10 cech.\n",
    "* Przedstaw porównanie wyników klasyfikacji na danych znormalizowanych i bez normalizacji.\n",
    "* Napisz wnioski.\n",
    "\n",
    "**UWAGA: Wykorzystaj gotową implementację kNN [KNeighborsClassifier](https://scikit-learn.org/stable/modules/generated/sklearn.neighbors.KNeighborsClassifier.html)**"
   ]
  },
  {
   "cell_type": "code",
   "execution_count": 18,
   "metadata": {
    "pycharm": {
     "name": "#%%\n"
    }
   },
   "outputs": [],
   "source": [
    "# <<< TUTAJ WYKONAJ ZADANIE >>>\n",
    "# <UZUPEŁNIJ>\n",
    "import matplotlib.pyplot as plt\n",
    "import numpy as np\n",
    "import pandas as pd\n",
    "\n",
    "\n",
    "with open('./dataset/dataset.npz', 'rb') as f:\n",
    "    data = np.load(f)\n",
    "    train, test = data['train'], data['test']\n",
    "    \n",
    "train = pd.DataFrame(train).drop(columns=[1])\n",
    "test = pd.DataFrame(test).drop(columns=[1])\n",
    "\n"
   ]
  },
  {
   "cell_type": "code",
   "execution_count": 19,
   "outputs": [
    {
     "data": {
      "text/plain": "['class',\n 'eccentricity',\n 'aspect ratio',\n 'elongation',\n 'solidity',\n 'stochastic convexity',\n 'isoperimetric factor',\n 'maximal indentation depth',\n 'lobedness',\n 'average intensity',\n 'average contrast',\n 'smoothness',\n 'third moment',\n 'uniformity',\n 'entropy']"
     },
     "execution_count": 19,
     "metadata": {},
     "output_type": "execute_result"
    }
   ],
   "source": [
    "columns_string = \"\"\"\n",
    "1. Class,\n",
    "2. Specimen Number,\n",
    "3. Eccentricity,\n",
    "4. Aspect Ratio,\n",
    "5. Elongation,\n",
    "6. Solidity,\n",
    "7. Stochastic Convexity,\n",
    "8. Isoperimetric Factor,\n",
    "9. Maximal Indentation Depth,\n",
    "10. Lobedness,\n",
    "11. Average Intensity,\n",
    "12. Average Contrast,\n",
    "13. Smoothness,\n",
    "14. Third moment,\n",
    "15. Uniformity,\n",
    "16. Entropy\n",
    "\"\"\"\n",
    "\n",
    "columns_string = ''.join([i for i in columns_string\n",
    "                          if not i.isdigit() and\n",
    "                          not i == '\\n' and\n",
    "                          not i == '.'])\n",
    "columns_string = columns_string.split(',')\n",
    "columns_string.remove(columns_string[1])\n",
    "result = []\n",
    "for c in columns_string:\n",
    "   result.append(c.lower().lstrip().rstrip())\n",
    "result"
   ],
   "metadata": {
    "collapsed": false,
    "pycharm": {
     "name": "#%%\n"
    }
   }
  },
  {
   "cell_type": "code",
   "execution_count": 20,
   "outputs": [],
   "source": [
    "train.columns = result\n",
    "test.columns = result"
   ],
   "metadata": {
    "collapsed": false,
    "pycharm": {
     "name": "#%%\n"
    }
   }
  },
  {
   "cell_type": "code",
   "execution_count": 21,
   "metadata": {
    "pycharm": {
     "name": "#%%\n"
    }
   },
   "outputs": [
    {
     "data": {
      "text/plain": "             class  eccentricity  aspect ratio   elongation     solidity  \\\ncount  1496.000000   1496.000000   1496.000000  1496.000000  1496.000000   \nmean     17.904412      0.713613      2.308071     0.521687     0.899597   \nstd      11.329759      0.224480      2.236218     0.196694     0.144816   \nmin       1.000000      0.057390      0.727601     0.094070     0.363936   \n25%       8.000000      0.547471      1.217674     0.359407     0.841107   \n50%      14.000000      0.761831      1.585417     0.520467     0.925156   \n75%      28.000000      0.897303      2.210619     0.653339     0.998260   \nmax      36.000000      1.096470     15.318850     1.006415     1.121180   \n\n       stochastic convexity  isoperimetric factor  maximal indentation depth  \\\ncount           1496.000000           1496.000000                1496.000000   \nmean               0.938746              0.518407                   0.036752   \nstd                0.143053              0.223256                   0.036031   \nmin                0.405025              0.044056                  -0.002376   \n25%                0.882733              0.326654                   0.010477   \n50%                0.967052              0.569796                   0.022569   \n75%                1.037821              0.695880                   0.049418   \nmax                1.139580              0.913034                   0.157804   \n\n         lobedness  average intensity  average contrast   smoothness  \\\ncount  1496.000000        1496.000000       1496.000000  1496.000000   \nmean      0.478845           0.051467          0.124291     0.017484   \nstd       0.853495           0.035254          0.051878     0.013403   \nmin      -0.069865          -0.000919          0.021498    -0.001122   \n25%       0.024621           0.022845          0.081900     0.006949   \n50%       0.098118           0.043278          0.117550     0.014273   \n75%       0.424421           0.074505          0.163227     0.025702   \nmax       4.331030           0.154303          0.281071     0.067945   \n\n       third moment   uniformity      entropy  \ncount   1496.000000  1496.000000  1496.000000  \nmean       0.005856     0.000395     1.179112  \nstd        0.005302     0.000436     0.574607  \nmin       -0.000392    -0.000032     0.085703  \n25%        0.002155     0.000101     0.739347  \n50%        0.004286     0.000231     1.069875  \n75%        0.007971     0.000505     1.602196  \nmax        0.030656     0.002394     2.856340  ",
      "text/html": "<div>\n<style scoped>\n    .dataframe tbody tr th:only-of-type {\n        vertical-align: middle;\n    }\n\n    .dataframe tbody tr th {\n        vertical-align: top;\n    }\n\n    .dataframe thead th {\n        text-align: right;\n    }\n</style>\n<table border=\"1\" class=\"dataframe\">\n  <thead>\n    <tr style=\"text-align: right;\">\n      <th></th>\n      <th>class</th>\n      <th>eccentricity</th>\n      <th>aspect ratio</th>\n      <th>elongation</th>\n      <th>solidity</th>\n      <th>stochastic convexity</th>\n      <th>isoperimetric factor</th>\n      <th>maximal indentation depth</th>\n      <th>lobedness</th>\n      <th>average intensity</th>\n      <th>average contrast</th>\n      <th>smoothness</th>\n      <th>third moment</th>\n      <th>uniformity</th>\n      <th>entropy</th>\n    </tr>\n  </thead>\n  <tbody>\n    <tr>\n      <th>count</th>\n      <td>1496.000000</td>\n      <td>1496.000000</td>\n      <td>1496.000000</td>\n      <td>1496.000000</td>\n      <td>1496.000000</td>\n      <td>1496.000000</td>\n      <td>1496.000000</td>\n      <td>1496.000000</td>\n      <td>1496.000000</td>\n      <td>1496.000000</td>\n      <td>1496.000000</td>\n      <td>1496.000000</td>\n      <td>1496.000000</td>\n      <td>1496.000000</td>\n      <td>1496.000000</td>\n    </tr>\n    <tr>\n      <th>mean</th>\n      <td>17.904412</td>\n      <td>0.713613</td>\n      <td>2.308071</td>\n      <td>0.521687</td>\n      <td>0.899597</td>\n      <td>0.938746</td>\n      <td>0.518407</td>\n      <td>0.036752</td>\n      <td>0.478845</td>\n      <td>0.051467</td>\n      <td>0.124291</td>\n      <td>0.017484</td>\n      <td>0.005856</td>\n      <td>0.000395</td>\n      <td>1.179112</td>\n    </tr>\n    <tr>\n      <th>std</th>\n      <td>11.329759</td>\n      <td>0.224480</td>\n      <td>2.236218</td>\n      <td>0.196694</td>\n      <td>0.144816</td>\n      <td>0.143053</td>\n      <td>0.223256</td>\n      <td>0.036031</td>\n      <td>0.853495</td>\n      <td>0.035254</td>\n      <td>0.051878</td>\n      <td>0.013403</td>\n      <td>0.005302</td>\n      <td>0.000436</td>\n      <td>0.574607</td>\n    </tr>\n    <tr>\n      <th>min</th>\n      <td>1.000000</td>\n      <td>0.057390</td>\n      <td>0.727601</td>\n      <td>0.094070</td>\n      <td>0.363936</td>\n      <td>0.405025</td>\n      <td>0.044056</td>\n      <td>-0.002376</td>\n      <td>-0.069865</td>\n      <td>-0.000919</td>\n      <td>0.021498</td>\n      <td>-0.001122</td>\n      <td>-0.000392</td>\n      <td>-0.000032</td>\n      <td>0.085703</td>\n    </tr>\n    <tr>\n      <th>25%</th>\n      <td>8.000000</td>\n      <td>0.547471</td>\n      <td>1.217674</td>\n      <td>0.359407</td>\n      <td>0.841107</td>\n      <td>0.882733</td>\n      <td>0.326654</td>\n      <td>0.010477</td>\n      <td>0.024621</td>\n      <td>0.022845</td>\n      <td>0.081900</td>\n      <td>0.006949</td>\n      <td>0.002155</td>\n      <td>0.000101</td>\n      <td>0.739347</td>\n    </tr>\n    <tr>\n      <th>50%</th>\n      <td>14.000000</td>\n      <td>0.761831</td>\n      <td>1.585417</td>\n      <td>0.520467</td>\n      <td>0.925156</td>\n      <td>0.967052</td>\n      <td>0.569796</td>\n      <td>0.022569</td>\n      <td>0.098118</td>\n      <td>0.043278</td>\n      <td>0.117550</td>\n      <td>0.014273</td>\n      <td>0.004286</td>\n      <td>0.000231</td>\n      <td>1.069875</td>\n    </tr>\n    <tr>\n      <th>75%</th>\n      <td>28.000000</td>\n      <td>0.897303</td>\n      <td>2.210619</td>\n      <td>0.653339</td>\n      <td>0.998260</td>\n      <td>1.037821</td>\n      <td>0.695880</td>\n      <td>0.049418</td>\n      <td>0.424421</td>\n      <td>0.074505</td>\n      <td>0.163227</td>\n      <td>0.025702</td>\n      <td>0.007971</td>\n      <td>0.000505</td>\n      <td>1.602196</td>\n    </tr>\n    <tr>\n      <th>max</th>\n      <td>36.000000</td>\n      <td>1.096470</td>\n      <td>15.318850</td>\n      <td>1.006415</td>\n      <td>1.121180</td>\n      <td>1.139580</td>\n      <td>0.913034</td>\n      <td>0.157804</td>\n      <td>4.331030</td>\n      <td>0.154303</td>\n      <td>0.281071</td>\n      <td>0.067945</td>\n      <td>0.030656</td>\n      <td>0.002394</td>\n      <td>2.856340</td>\n    </tr>\n  </tbody>\n</table>\n</div>"
     },
     "execution_count": 21,
     "metadata": {},
     "output_type": "execute_result"
    }
   ],
   "source": [
    "test.describe()"
   ]
  },
  {
   "cell_type": "code",
   "execution_count": 22,
   "metadata": {
    "pycharm": {
     "name": "#%%\n"
    }
   },
   "outputs": [],
   "source": [
    "from sklearn.neighbors import KNeighborsClassifier"
   ]
  },
  {
   "cell_type": "code",
   "execution_count": 23,
   "metadata": {
    "pycharm": {
     "name": "#%%\n"
    }
   },
   "outputs": [],
   "source": [
    "ficzery = [\n",
    "            'eccentricity',\n",
    "            'aspect ratio',\n",
    "            'elongation',\n",
    "            'smoothness',\n",
    "            'isoperimetric factor',\n",
    "            'maximal indentation depth',\n",
    "            'average intensity',\n",
    "            'average contrast',\n",
    "            'third moment',\n",
    "            'entropy',\n",
    "           ]\n",
    "klasy = [4, 5, 9, 10, 12]\n",
    "\n",
    "new_train = train[train['class'].isin(klasy)]\n",
    "new_test = test[test['class'].isin(klasy)]\n",
    "\n",
    "x = new_train[ficzery]\n",
    "y = new_train['class']\n",
    "\n",
    "knn = KNeighborsClassifier(n_neighbors=5)\n",
    "\n",
    "knn.fit(x, y)\n",
    "\n",
    "prediction = knn.predict(new_test[ficzery])\n"
   ]
  },
  {
   "cell_type": "code",
   "execution_count": 24,
   "metadata": {
    "pycharm": {
     "name": "#%%\n"
    }
   },
   "outputs": [
    {
     "name": "stdout",
     "output_type": "stream",
     "text": [
      "Accuracy: 0.65\n",
      "Balanced accuracy: 0.6353797865662273\n",
      "F1 score: 0.65\n"
     ]
    },
    {
     "data": {
      "text/plain": "<Figure size 432x288 with 2 Axes>",
      "image/png": "[encoded data removed]"
     },
     "metadata": {
      "needs_background": "light"
     },
     "output_type": "display_data"
    }
   ],
   "source": [
    "from sklearn.metrics import ConfusionMatrixDisplay, confusion_matrix, accuracy_score, balanced_accuracy_score, f1_score\n",
    "\n",
    "def show_statistics(true, pred):\n",
    "    cm = confusion_matrix(true, pred)\n",
    "    cmd = ConfusionMatrixDisplay(cm, display_labels=klasy)\n",
    "    cmd.plot(cmap='binary')\n",
    "    print('Accuracy:', accuracy_score(true, pred))\n",
    "    bac = balanced_accuracy_score(true, pred)\n",
    "    print('Balanced accuracy:', bac)\n",
    "    f1s = f1_score(true, pred, average='micro')\n",
    "    print('F1 score:', f1s)\n",
    "\n",
    "    return bac, f1s\n",
    "\n",
    "b, f1 = show_statistics(prediction, new_test['class'])"
   ]
  },
  {
   "cell_type": "code",
   "execution_count": 25,
   "metadata": {
    "pycharm": {
     "name": "#%%\n"
    }
   },
   "outputs": [],
   "source": [
    "from sklearn.preprocessing import MinMaxScaler\n",
    "\n",
    "scaler = MinMaxScaler()\n",
    "\n",
    "normalized_train = scaler.fit_transform(train.drop(columns=['class']))\n",
    "normalized_test = scaler.fit_transform(test.drop(columns=['class']))\n"
   ]
  },
  {
   "cell_type": "code",
   "execution_count": 26,
   "outputs": [],
   "source": [
    "normalized_train = np.column_stack((train['class'], normalized_train))\n",
    "normalized_test = np.column_stack((test['class'], normalized_test))"
   ],
   "metadata": {
    "collapsed": false,
    "pycharm": {
     "name": "#%%\n"
    }
   }
  },
  {
   "cell_type": "code",
   "execution_count": 27,
   "metadata": {
    "pycharm": {
     "name": "#%%\n"
    }
   },
   "outputs": [],
   "source": [
    "normalized_train = pd.DataFrame(normalized_train, columns=result)\n",
    "normalized_test = pd.DataFrame(normalized_test, columns=result)"
   ]
  },
  {
   "cell_type": "code",
   "execution_count": 28,
   "outputs": [
    {
     "data": {
      "text/plain": "             class  eccentricity  aspect ratio   elongation     solidity  \\\ncount  1496.000000   1496.000000   1496.000000  1496.000000  1496.000000   \nmean     17.904412      0.631542      0.108316     0.468701     0.707383   \nstd      11.329759      0.216037      0.153257     0.215592     0.191241   \nmin       1.000000      0.000000      0.000000     0.000000     0.000000   \n25%       8.000000      0.471649      0.033587     0.290829     0.630142   \n50%      14.000000      0.677946      0.058790     0.467364     0.741136   \n75%      28.000000      0.808323      0.101637     0.613001     0.837674   \nmax      36.000000      1.000000      1.000000     1.000000     1.000000   \n\n       stochastic convexity  isoperimetric factor  maximal indentation depth  \\\ncount           1496.000000           1496.000000                1496.000000   \nmean               0.726591              0.545872                   0.244278   \nstd                0.194748              0.256918                   0.224938   \nmin                0.000000              0.000000                   0.000000   \n25%                0.650337              0.325207                   0.080243   \n50%                0.765126              0.605010                   0.155733   \n75%                0.861469              0.750103                   0.323349   \nmax                1.000000              1.000000                   1.000000   \n\n         lobedness  average intensity  average contrast   smoothness  \\\ncount  1496.000000        1496.000000       1496.000000  1496.000000   \nmean      0.124681           0.337491          0.396009     0.269385   \nstd       0.193937           0.227122          0.199858     0.194058   \nmin       0.000000           0.000000          0.000000     0.000000   \n25%       0.021470           0.153100          0.232697     0.116856   \n50%       0.038170           0.284736          0.370039     0.222889   \n75%       0.112315           0.485910          0.546008     0.388376   \nmax       1.000000           1.000000          1.000000     1.000000   \n\n       third moment   uniformity      entropy  \ncount   1496.000000  1496.000000  1496.000000  \nmean       0.201218     0.175968     0.394642  \nstd        0.170766     0.179814     0.207392  \nmin        0.000000     0.000000     0.000000  \n25%        0.082027     0.054780     0.235918  \n50%        0.150668     0.108330     0.355215  \n75%        0.269347     0.221331     0.547345  \nmax        1.000000     1.000000     1.000000  ",
      "text/html": "<div>\n<style scoped>\n    .dataframe tbody tr th:only-of-type {\n        vertical-align: middle;\n    }\n\n    .dataframe tbody tr th {\n        vertical-align: top;\n    }\n\n    .dataframe thead th {\n        text-align: right;\n    }\n</style>\n<table border=\"1\" class=\"dataframe\">\n  <thead>\n    <tr style=\"text-align: right;\">\n      <th></th>\n      <th>class</th>\n      <th>eccentricity</th>\n      <th>aspect ratio</th>\n      <th>elongation</th>\n      <th>solidity</th>\n      <th>stochastic convexity</th>\n      <th>isoperimetric factor</th>\n      <th>maximal indentation depth</th>\n      <th>lobedness</th>\n      <th>average intensity</th>\n      <th>average contrast</th>\n      <th>smoothness</th>\n      <th>third moment</th>\n      <th>uniformity</th>\n      <th>entropy</th>\n    </tr>\n  </thead>\n  <tbody>\n    <tr>\n      <th>count</th>\n      <td>1496.000000</td>\n      <td>1496.000000</td>\n      <td>1496.000000</td>\n      <td>1496.000000</td>\n      <td>1496.000000</td>\n      <td>1496.000000</td>\n      <td>1496.000000</td>\n      <td>1496.000000</td>\n      <td>1496.000000</td>\n      <td>1496.000000</td>\n      <td>1496.000000</td>\n      <td>1496.000000</td>\n      <td>1496.000000</td>\n      <td>1496.000000</td>\n      <td>1496.000000</td>\n    </tr>\n    <tr>\n      <th>mean</th>\n      <td>17.904412</td>\n      <td>0.631542</td>\n      <td>0.108316</td>\n      <td>0.468701</td>\n      <td>0.707383</td>\n      <td>0.726591</td>\n      <td>0.545872</td>\n      <td>0.244278</td>\n      <td>0.124681</td>\n      <td>0.337491</td>\n      <td>0.396009</td>\n      <td>0.269385</td>\n      <td>0.201218</td>\n      <td>0.175968</td>\n      <td>0.394642</td>\n    </tr>\n    <tr>\n      <th>std</th>\n      <td>11.329759</td>\n      <td>0.216037</td>\n      <td>0.153257</td>\n      <td>0.215592</td>\n      <td>0.191241</td>\n      <td>0.194748</td>\n      <td>0.256918</td>\n      <td>0.224938</td>\n      <td>0.193937</td>\n      <td>0.227122</td>\n      <td>0.199858</td>\n      <td>0.194058</td>\n      <td>0.170766</td>\n      <td>0.179814</td>\n      <td>0.207392</td>\n    </tr>\n    <tr>\n      <th>min</th>\n      <td>1.000000</td>\n      <td>0.000000</td>\n      <td>0.000000</td>\n      <td>0.000000</td>\n      <td>0.000000</td>\n      <td>0.000000</td>\n      <td>0.000000</td>\n      <td>0.000000</td>\n      <td>0.000000</td>\n      <td>0.000000</td>\n      <td>0.000000</td>\n      <td>0.000000</td>\n      <td>0.000000</td>\n      <td>0.000000</td>\n      <td>0.000000</td>\n    </tr>\n    <tr>\n      <th>25%</th>\n      <td>8.000000</td>\n      <td>0.471649</td>\n      <td>0.033587</td>\n      <td>0.290829</td>\n      <td>0.630142</td>\n      <td>0.650337</td>\n      <td>0.325207</td>\n      <td>0.080243</td>\n      <td>0.021470</td>\n      <td>0.153100</td>\n      <td>0.232697</td>\n      <td>0.116856</td>\n      <td>0.082027</td>\n      <td>0.054780</td>\n      <td>0.235918</td>\n    </tr>\n    <tr>\n      <th>50%</th>\n      <td>14.000000</td>\n      <td>0.677946</td>\n      <td>0.058790</td>\n      <td>0.467364</td>\n      <td>0.741136</td>\n      <td>0.765126</td>\n      <td>0.605010</td>\n      <td>0.155733</td>\n      <td>0.038170</td>\n      <td>0.284736</td>\n      <td>0.370039</td>\n      <td>0.222889</td>\n      <td>0.150668</td>\n      <td>0.108330</td>\n      <td>0.355215</td>\n    </tr>\n    <tr>\n      <th>75%</th>\n      <td>28.000000</td>\n      <td>0.808323</td>\n      <td>0.101637</td>\n      <td>0.613001</td>\n      <td>0.837674</td>\n      <td>0.861469</td>\n      <td>0.750103</td>\n      <td>0.323349</td>\n      <td>0.112315</td>\n      <td>0.485910</td>\n      <td>0.546008</td>\n      <td>0.388376</td>\n      <td>0.269347</td>\n      <td>0.221331</td>\n      <td>0.547345</td>\n    </tr>\n    <tr>\n      <th>max</th>\n      <td>36.000000</td>\n      <td>1.000000</td>\n      <td>1.000000</td>\n      <td>1.000000</td>\n      <td>1.000000</td>\n      <td>1.000000</td>\n      <td>1.000000</td>\n      <td>1.000000</td>\n      <td>1.000000</td>\n      <td>1.000000</td>\n      <td>1.000000</td>\n      <td>1.000000</td>\n      <td>1.000000</td>\n      <td>1.000000</td>\n      <td>1.000000</td>\n    </tr>\n  </tbody>\n</table>\n</div>"
     },
     "execution_count": 28,
     "metadata": {},
     "output_type": "execute_result"
    }
   ],
   "source": [
    "normalized_test.describe()"
   ],
   "metadata": {
    "collapsed": false,
    "pycharm": {
     "name": "#%%\n"
    }
   }
  },
  {
   "cell_type": "code",
   "execution_count": 29,
   "outputs": [
    {
     "data": {
      "text/plain": "             class  eccentricity  aspect ratio   elongation     solidity  \\\ncount  2244.000000   2244.000000   2244.000000  2244.000000  2244.000000   \nmean     18.970588      0.644786      0.100870     0.472156     0.706796   \nstd      10.989479      0.198860      0.152243     0.208113     0.179091   \nmin       1.000000      0.000000      0.000000     0.000000     0.000000   \n25%       9.000000      0.485824      0.031495     0.312276     0.626768   \n50%      22.000000      0.681225      0.051244     0.462750     0.732011   \n75%      29.000000      0.807086      0.093001     0.605923     0.825019   \nmax      36.000000      1.000000      1.000000     1.000000     1.000000   \n\n       stochastic convexity  isoperimetric factor  maximal indentation depth  \\\ncount           2244.000000           2244.000000                2244.000000   \nmean               0.780537              0.580504                   0.196969   \nstd                0.151642              0.239842                   0.197882   \nmin                0.000000              0.000000                   0.000000   \n25%                0.716935              0.427531                   0.062317   \n50%                0.806926              0.622893                   0.129719   \n75%                0.877642              0.762897                   0.240313   \nmax                1.000000              1.000000                   1.000000   \n\n         lobedness  average intensity  average contrast   smoothness  \\\ncount  2244.000000        2244.000000       2244.000000  2244.000000   \nmean      0.085786           0.266014          0.394216     0.249502   \nstd       0.155550           0.184222          0.193326     0.182946   \nmin       0.000000           0.000000          0.000000     0.000000   \n25%       0.014756           0.122236          0.248107     0.111076   \n50%       0.025427           0.222594          0.370472     0.195888   \n75%       0.065968           0.372414          0.537309     0.366487   \nmax       1.000000           1.000000          1.000000     1.000000   \n\n       third moment   uniformity      entropy  \ncount   2244.000000  2244.000000  2244.000000  \nmean       0.247201     0.141733     0.402678  \nstd        0.198834     0.141634     0.218212  \nmin        0.000000     0.000000     0.000000  \n25%        0.100091     0.048045     0.229016  \n50%        0.189059     0.093326     0.378689  \n75%        0.341277     0.190119     0.552970  \nmax        1.000000     1.000000     1.000000  ",
      "text/html": "<div>\n<style scoped>\n    .dataframe tbody tr th:only-of-type {\n        vertical-align: middle;\n    }\n\n    .dataframe tbody tr th {\n        vertical-align: top;\n    }\n\n    .dataframe thead th {\n        text-align: right;\n    }\n</style>\n<table border=\"1\" class=\"dataframe\">\n  <thead>\n    <tr style=\"text-align: right;\">\n      <th></th>\n      <th>class</th>\n      <th>eccentricity</th>\n      <th>aspect ratio</th>\n      <th>elongation</th>\n      <th>solidity</th>\n      <th>stochastic convexity</th>\n      <th>isoperimetric factor</th>\n      <th>maximal indentation depth</th>\n      <th>lobedness</th>\n      <th>average intensity</th>\n      <th>average contrast</th>\n      <th>smoothness</th>\n      <th>third moment</th>\n      <th>uniformity</th>\n      <th>entropy</th>\n    </tr>\n  </thead>\n  <tbody>\n    <tr>\n      <th>count</th>\n      <td>2244.000000</td>\n      <td>2244.000000</td>\n      <td>2244.000000</td>\n      <td>2244.000000</td>\n      <td>2244.000000</td>\n      <td>2244.000000</td>\n      <td>2244.000000</td>\n      <td>2244.000000</td>\n      <td>2244.000000</td>\n      <td>2244.000000</td>\n      <td>2244.000000</td>\n      <td>2244.000000</td>\n      <td>2244.000000</td>\n      <td>2244.000000</td>\n      <td>2244.000000</td>\n    </tr>\n    <tr>\n      <th>mean</th>\n      <td>18.970588</td>\n      <td>0.644786</td>\n      <td>0.100870</td>\n      <td>0.472156</td>\n      <td>0.706796</td>\n      <td>0.780537</td>\n      <td>0.580504</td>\n      <td>0.196969</td>\n      <td>0.085786</td>\n      <td>0.266014</td>\n      <td>0.394216</td>\n      <td>0.249502</td>\n      <td>0.247201</td>\n      <td>0.141733</td>\n      <td>0.402678</td>\n    </tr>\n    <tr>\n      <th>std</th>\n      <td>10.989479</td>\n      <td>0.198860</td>\n      <td>0.152243</td>\n      <td>0.208113</td>\n      <td>0.179091</td>\n      <td>0.151642</td>\n      <td>0.239842</td>\n      <td>0.197882</td>\n      <td>0.155550</td>\n      <td>0.184222</td>\n      <td>0.193326</td>\n      <td>0.182946</td>\n      <td>0.198834</td>\n      <td>0.141634</td>\n      <td>0.218212</td>\n    </tr>\n    <tr>\n      <th>min</th>\n      <td>1.000000</td>\n      <td>0.000000</td>\n      <td>0.000000</td>\n      <td>0.000000</td>\n      <td>0.000000</td>\n      <td>0.000000</td>\n      <td>0.000000</td>\n      <td>0.000000</td>\n      <td>0.000000</td>\n      <td>0.000000</td>\n      <td>0.000000</td>\n      <td>0.000000</td>\n      <td>0.000000</td>\n      <td>0.000000</td>\n      <td>0.000000</td>\n    </tr>\n    <tr>\n      <th>25%</th>\n      <td>9.000000</td>\n      <td>0.485824</td>\n      <td>0.031495</td>\n      <td>0.312276</td>\n      <td>0.626768</td>\n      <td>0.716935</td>\n      <td>0.427531</td>\n      <td>0.062317</td>\n      <td>0.014756</td>\n      <td>0.122236</td>\n      <td>0.248107</td>\n      <td>0.111076</td>\n      <td>0.100091</td>\n      <td>0.048045</td>\n      <td>0.229016</td>\n    </tr>\n    <tr>\n      <th>50%</th>\n      <td>22.000000</td>\n      <td>0.681225</td>\n      <td>0.051244</td>\n      <td>0.462750</td>\n      <td>0.732011</td>\n      <td>0.806926</td>\n      <td>0.622893</td>\n      <td>0.129719</td>\n      <td>0.025427</td>\n      <td>0.222594</td>\n      <td>0.370472</td>\n      <td>0.195888</td>\n      <td>0.189059</td>\n      <td>0.093326</td>\n      <td>0.378689</td>\n    </tr>\n    <tr>\n      <th>75%</th>\n      <td>29.000000</td>\n      <td>0.807086</td>\n      <td>0.093001</td>\n      <td>0.605923</td>\n      <td>0.825019</td>\n      <td>0.877642</td>\n      <td>0.762897</td>\n      <td>0.240313</td>\n      <td>0.065968</td>\n      <td>0.372414</td>\n      <td>0.537309</td>\n      <td>0.366487</td>\n      <td>0.341277</td>\n      <td>0.190119</td>\n      <td>0.552970</td>\n    </tr>\n    <tr>\n      <th>max</th>\n      <td>36.000000</td>\n      <td>1.000000</td>\n      <td>1.000000</td>\n      <td>1.000000</td>\n      <td>1.000000</td>\n      <td>1.000000</td>\n      <td>1.000000</td>\n      <td>1.000000</td>\n      <td>1.000000</td>\n      <td>1.000000</td>\n      <td>1.000000</td>\n      <td>1.000000</td>\n      <td>1.000000</td>\n      <td>1.000000</td>\n      <td>1.000000</td>\n    </tr>\n  </tbody>\n</table>\n</div>"
     },
     "execution_count": 29,
     "metadata": {},
     "output_type": "execute_result"
    }
   ],
   "source": [
    "normalized_train.describe()"
   ],
   "metadata": {
    "collapsed": false,
    "pycharm": {
     "name": "#%%\n"
    }
   }
  },
  {
   "cell_type": "code",
   "execution_count": 30,
   "outputs": [],
   "source": [
    "ficzery = [\n",
    "            'eccentricity',\n",
    "            'aspect ratio',\n",
    "            'elongation',\n",
    "            'smoothness',\n",
    "            'isoperimetric factor',\n",
    "            'maximal indentation depth',\n",
    "            'average intensity',\n",
    "            'average contrast',\n",
    "            'third moment',\n",
    "            'entropy',\n",
    "           ]\n",
    "klasy = [4, 5, 9, 10, 12]\n",
    "\n",
    "new_normalized_train = normalized_train[normalized_train['class'].isin(klasy)]\n",
    "new_normalized_test = normalized_test[normalized_test['class'].isin(klasy)]\n",
    "\n",
    "x = new_normalized_train[ficzery]\n",
    "y = new_normalized_train['class']\n",
    "\n",
    "knn = KNeighborsClassifier(n_neighbors=5)\n",
    "\n",
    "knn.fit(x, y)\n",
    "\n",
    "prediction = knn.predict(new_normalized_test[ficzery])\n"
   ],
   "metadata": {
    "collapsed": false,
    "pycharm": {
     "name": "#%%\n"
    }
   }
  },
  {
   "cell_type": "code",
   "execution_count": 31,
   "outputs": [
    {
     "name": "stdout",
     "output_type": "stream",
     "text": [
      "Accuracy: 0.759090909090909\n",
      "Balanced accuracy: 0.754551295780681\n",
      "F1 score: 0.759090909090909\n"
     ]
    },
    {
     "data": {
      "text/plain": "<Figure size 432x288 with 2 Axes>",
      "image/png": "[encoded data removed]"
     },
     "metadata": {
      "needs_background": "light"
     },
     "output_type": "display_data"
    }
   ],
   "source": [
    "nb, nf1 = show_statistics(prediction, new_normalized_test['class'])"
   ],
   "metadata": {
    "collapsed": false,
    "pycharm": {
     "name": "#%%\n"
    }
   }
  },
  {
   "cell_type": "code",
   "execution_count": 32,
   "outputs": [
    {
     "data": {
      "text/plain": "<Figure size 1440x720 with 2 Axes>",
      "image/png": "[encoded data removed]"
     },
     "metadata": {
      "needs_background": "light"
     },
     "output_type": "display_data"
    }
   ],
   "source": [
    "import matplotlib.pyplot as plt\n",
    "\n",
    "fig, ax = plt.subplots(ncols=2, figsize=(20, 10))\n",
    "\n",
    "\n",
    "bars0 = ax[0].bar(['Balanced accuracy', 'F1 score'], [b, f1], width=0.5)\n",
    "ax[0].bar_label(bars0, (round(b, 3), round(f1, 3)))\n",
    "bars1= ax[1].bar(['Balanced accuracy', 'F1 score'], [nb, nf1], width=0.5)\n",
    "ax[1].bar_label(bars1, (round(nb, 3), round(nf1, 3)))\n",
    "\n",
    "ax[0].set_ylim((0, 1))\n",
    "ax[0].set_title('Without normalization')\n",
    "ax[1].set_ylim((0, 1))\n",
    "ax[1].set_title('With normalization')\n",
    "\n",
    "plt.tight_layout()"
   ],
   "metadata": {
    "collapsed": false,
    "pycharm": {
     "name": "#%%\n"
    }
   }
  },
  {
   "cell_type": "markdown",
   "metadata": {
    "pycharm": {
     "name": "#%% md\n"
    }
   },
   "source": [
    "#### Selekcja cech\n",
    "Na tym samym podzbiorze danych (co w poprzednim zadaniu).\n",
    "* Przeprowadź selekcję cech (wybierz {2, 5} cech) za pomocą metod poznanych na wykładzie (np. z zastosowaniem współczynnika Fishera) lub istniejących implementacji z biblioteki [scikit-learn](https://scikit-learn.org/stable/modules/feature_selection.html) (np. [SelectKBest](https://scikit-learn.org/stable/modules/generated/sklearn.feature_selection.SelectKBest.html#sklearn.feature_selection.SelectKBest)).\n",
    "* Przeprowadź klasyfikację na wybranych cechach.\n",
    "* Porównaj wyniki klasyfikacji dla różnej liczby cech:\n",
    "    * 10 cech bez normalizacji (wyniki z poprzedniego zadania),\n",
    "    * 10 cech z normalizacją (wyniki z poprzedniego zadania),\n",
    "    * 5 wybranych cech z bez normalizacji,\n",
    "    * 5 wybranych cech z normalizacją,\n",
    "    * 2 wybranych cech z bez normalizacji,\n",
    "    * 2 wybranych cech z normalizacją.\n",
    "* Opisz wyniki i napisz wnioski.\n"
   ]
  },
  {
   "cell_type": "code",
   "execution_count": 35,
   "metadata": {
    "pycharm": {
     "name": "#%%\n"
    }
   },
   "outputs": [
    {
     "data": {
      "text/plain": "array(['eccentricity', 'aspect ratio', 'elongation',\n       'isoperimetric factor', 'maximal indentation depth'], dtype=object)"
     },
     "execution_count": 35,
     "metadata": {},
     "output_type": "execute_result"
    }
   ],
   "source": [
    "# <<< TUTAJ WYKONAJ ZADANIE >>>\n",
    "from sklearn.feature_selection import SelectKBest\n",
    "\n",
    "\n",
    "def select_features(data, k):\n",
    "    selector = SelectKBest(k=k)\n",
    "    selector.fit(data.drop(columns=['class']), data['class'])\n",
    "    return selector.get_feature_names_out()\n",
    "\n",
    "\n",
    "select_features(train, 5)"
   ]
  },
  {
   "cell_type": "code",
   "execution_count": 33,
   "outputs": [],
   "source": [],
   "metadata": {
    "collapsed": false,
    "pycharm": {
     "name": "#%%\n"
    }
   }
  }
 ],
 "metadata": {
  "author": {
   "emails": [
    "rsusik@kis.p.lodz.pl"
   ],
   "name": "Robert Susik"
  },
  "kernelspec": {
   "display_name": "Python 3 (ipykernel)",
   "language": "python",
   "name": "python3"
  },
  "language_info": {
   "codemirror_mode": {
    "name": "ipython",
    "version": 3
   },
   "file_extension": ".py",
   "mimetype": "text/x-python",
   "name": "python",
   "nbconvert_exporter": "python",
   "pygments_lexer": "ipython3",
   "version": "3.9.7"
  },
  "toc": {
   "base_numbering": 1,
   "nav_menu": {},
   "number_sections": true,
   "sideBar": true,
   "skip_h1_title": false,
   "title_cell": "Table of Contents",
   "title_sidebar": "Contents",
   "toc_cell": false,
   "toc_position": {},
   "toc_section_display": true,
   "toc_window_display": true
  }
 },
 "nbformat": 4,
 "nbformat_minor": 4
}