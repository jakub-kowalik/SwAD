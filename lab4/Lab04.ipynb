{
 "cells": [
  {
   "cell_type": "markdown",
   "id": "bedecc37",
   "metadata": {
    "pycharm": {
     "name": "#%% md\n"
    }
   },
   "source": [
    "## Laboratorium 4 - algorytm Najbliższej Średniej (NM)\n",
    "\n",
    "\n",
    "### Opis\n",
    "Celem laboratorium jest implementacja klasyfikatora najbliższej średniej NM (*Nearest Mean*).\n",
    "\n",
    "\n",
    "### Zadanie\n",
    "\n",
    "Należy wykonać następujące czynności w celu realizacji niniejszego zadania:\n",
    "* Wczytaj dane.\n",
    "* **Zaimplementuj klasyfikator najbliższej średniej (NM) z zastosowaniem odległości Euklidesa**.\n",
    "* Zaimplementuj funkcję, która zwraca macierz kowariancji (*uwaga: biblioteka `numpy` posiada gotową implementację `cov` z którą możesz porównać wynik*).\n",
    "\n",
    "    \\begin{equation*}\n",
    "    C = \\frac{1}{n - 1} (X - \\bar X)(X - \\bar X)^T\n",
    "    \\end{equation*}\n",
    "\n",
    "    gdzie:\n",
    "    * $X$ to macierz, \n",
    "    * $\\bar X$ to wektor ze średnimi wartościami cech. \n",
    "\n",
    "* **Zaimplementuj klasyfikator najbliższej średniej (NM) z zastosowaniem odległości Machalanobisa**.\n",
    "\n",
    "    \\begin{equation*}\n",
    "    D_j = \\sqrt{ (x - \\mu_j)^T S_j^{-1}(x - \\mu_j) },\n",
    "    \\end{equation*}\n",
    "\n",
    "    gdzie:\n",
    "    * $D_j$ to odległość klasyfikowanej próbki do $j$-tej klasy (grupy, klastra), \n",
    "    * $\\mu_j$ to wektor ze średnimi wartościami cech w obrębie $j$-tej klasy, \n",
    "    * $S_j^{-1}$ to odwrócona macierz kowariancji $j$-tej klasy, \n",
    "    * a $x$ to klasyfikowana próbka.\n",
    "\n",
    "* Opisz wyniki klasyfikatorów i porównaj je z klasyfikatorem *k*NN (porównaj w kontekście różnych metryk - obowiązkowo tablica pomyłek).\n",
    "\n",
    "> Podpowiedź 1: Do obliczenia macierzy odwrotnej możesz użyć gotową implementację, np. funkcję `linalg.inv` z biblioteki `numpy`.\n",
    "\n",
    "> Podpowiedź 2: Do wszelkich podstawowych operacji na macierzach (mnożenie, transpozycja, dodawanie, odejmowanie, itp.) możesz zastosować gotową implementację, np. bibliotekę `numpy`.\n",
    "\n",
    "> UWAGA 1: W niniejszym zadaniu jest dowolność implementacji (nie trzeba trzymać się struktury z poprzedniego zadania), jednak algorytm NM należy zaimplementować samodzielnie bez korzystania z istniających rozwiązań (jak np. z biblioteki `scikit-learn`).\n",
    "\n",
    "> UWAGA 2: Wszystkie wykonane elementy zadania powinny posiadać stosowne komentarze i opisy.\n",
    "\n",
    "\n",
    "**Pamiętaj, wyniki powinny być czytelnie opisane oraz zaprezentowane graficznie (jeżeli jest taka możliwość).**\n",
    "\n",
    "Przykład (na podstawie tablicy pomyłek):\n",
    "\n",
    "**Źle** (nie wiadomo co jest poniżej zaprezentowane, kolumny ani wiersze nie są podpisane, nie wiadomo które z nich prezentują predykcje, a które właściwe etykiety):\n",
    "```\n",
    "array([[2, 0, 0],\n",
    "       [0, 0, 1],\n",
    "       [1, 0, 2]])\n",
    "```\n",
    "\n",
    "\n",
    "<span style=\"text-decoration:underline\">Referencje</span>\n",
    "\n",
    "1. Mahalanobis, P C, _On test and measures of group divergence : theoretical formulae_, Journal and Proceedings of Asiatic Society of Bengal (New Series) Vol. 26, pp. 541-588. 1930. (URL: http://library.isical.ac.in:8080/xmlui/bitstream/handle/10263/1639/029.pdf)\n",
    "2. McLachlan, Goeffrey J. _Mahalanobis distance_, Resonance, pp. 20-26. 1999. (URL: https://www.ias.ac.in/article/fulltext/reso/004/06/0020-0026)"
   ]
  },
  {
   "cell_type": "code",
   "execution_count": 1287,
   "id": "23a7414c",
   "metadata": {
    "pycharm": {
     "name": "#%%\n"
    }
   },
   "outputs": [
    {
     "data": {
      "text/plain": "     0    1        2       3        4        5        6        7         8   \\\n0  36.0  1.0  0.39093  1.1025  0.73351  0.72022  0.69474  0.17954  0.076072   \n1   5.0  4.0  0.93671  2.4151  0.72980  0.81793  0.86491  0.33439  0.080539   \n2  29.0  1.0  0.83750  1.9512  0.49050  0.96800  0.98246  0.65138  0.016224   \n3  35.0  3.0  0.90755  2.5820  0.62394  0.96837  0.99825  0.55674  0.031714   \n4  32.0  7.0  0.88485  2.2398  0.55754  0.97997  0.99825  0.67974  0.009129   \n\n         9         10        11        12        13        14       15  \n0  1.053200  0.059213  0.157470  0.024197  0.009541  0.000247  1.20420  \n1  1.180500  0.048722  0.120510  0.014314  0.003998  0.000372  1.30830  \n2  0.047908  0.005119  0.035621  0.001267  0.000322  0.000011  0.23514  \n3  0.183050  0.079387  0.162130  0.025613  0.007412  0.000699  1.69510  \n4  0.015166  0.025658  0.087206  0.007548  0.002152  0.000179  0.75154  ",
      "text/html": "<div>\n<style scoped>\n    .dataframe tbody tr th:only-of-type {\n        vertical-align: middle;\n    }\n\n    .dataframe tbody tr th {\n        vertical-align: top;\n    }\n\n    .dataframe thead th {\n        text-align: right;\n    }\n</style>\n<table border=\"1\" class=\"dataframe\">\n  <thead>\n    <tr style=\"text-align: right;\">\n      <th></th>\n      <th>0</th>\n      <th>1</th>\n      <th>2</th>\n      <th>3</th>\n      <th>4</th>\n      <th>5</th>\n      <th>6</th>\n      <th>7</th>\n      <th>8</th>\n      <th>9</th>\n      <th>10</th>\n      <th>11</th>\n      <th>12</th>\n      <th>13</th>\n      <th>14</th>\n      <th>15</th>\n    </tr>\n  </thead>\n  <tbody>\n    <tr>\n      <th>0</th>\n      <td>36.0</td>\n      <td>1.0</td>\n      <td>0.39093</td>\n      <td>1.1025</td>\n      <td>0.73351</td>\n      <td>0.72022</td>\n      <td>0.69474</td>\n      <td>0.17954</td>\n      <td>0.076072</td>\n      <td>1.053200</td>\n      <td>0.059213</td>\n      <td>0.157470</td>\n      <td>0.024197</td>\n      <td>0.009541</td>\n      <td>0.000247</td>\n      <td>1.20420</td>\n    </tr>\n    <tr>\n      <th>1</th>\n      <td>5.0</td>\n      <td>4.0</td>\n      <td>0.93671</td>\n      <td>2.4151</td>\n      <td>0.72980</td>\n      <td>0.81793</td>\n      <td>0.86491</td>\n      <td>0.33439</td>\n      <td>0.080539</td>\n      <td>1.180500</td>\n      <td>0.048722</td>\n      <td>0.120510</td>\n      <td>0.014314</td>\n      <td>0.003998</td>\n      <td>0.000372</td>\n      <td>1.30830</td>\n    </tr>\n    <tr>\n      <th>2</th>\n      <td>29.0</td>\n      <td>1.0</td>\n      <td>0.83750</td>\n      <td>1.9512</td>\n      <td>0.49050</td>\n      <td>0.96800</td>\n      <td>0.98246</td>\n      <td>0.65138</td>\n      <td>0.016224</td>\n      <td>0.047908</td>\n      <td>0.005119</td>\n      <td>0.035621</td>\n      <td>0.001267</td>\n      <td>0.000322</td>\n      <td>0.000011</td>\n      <td>0.23514</td>\n    </tr>\n    <tr>\n      <th>3</th>\n      <td>35.0</td>\n      <td>3.0</td>\n      <td>0.90755</td>\n      <td>2.5820</td>\n      <td>0.62394</td>\n      <td>0.96837</td>\n      <td>0.99825</td>\n      <td>0.55674</td>\n      <td>0.031714</td>\n      <td>0.183050</td>\n      <td>0.079387</td>\n      <td>0.162130</td>\n      <td>0.025613</td>\n      <td>0.007412</td>\n      <td>0.000699</td>\n      <td>1.69510</td>\n    </tr>\n    <tr>\n      <th>4</th>\n      <td>32.0</td>\n      <td>7.0</td>\n      <td>0.88485</td>\n      <td>2.2398</td>\n      <td>0.55754</td>\n      <td>0.97997</td>\n      <td>0.99825</td>\n      <td>0.67974</td>\n      <td>0.009129</td>\n      <td>0.015166</td>\n      <td>0.025658</td>\n      <td>0.087206</td>\n      <td>0.007548</td>\n      <td>0.002152</td>\n      <td>0.000179</td>\n      <td>0.75154</td>\n    </tr>\n  </tbody>\n</table>\n</div>"
     },
     "execution_count": 1287,
     "metadata": {},
     "output_type": "execute_result"
    }
   ],
   "source": [
    "# <UZUPEŁNIJ>\n",
    "import matplotlib.pyplot as plt\n",
    "import numpy as np\n",
    "import pandas as pd\n",
    "\n",
    "\n",
    "with open('./dataset/dataset.npz', 'rb') as f:\n",
    "    data = np.load(f)\n",
    "    train, test = data['train'], data['test']\n",
    "\n",
    "all_data = pd.DataFrame(np.vstack((train, test)))\n",
    "all_data.head()"
   ]
  },
  {
   "cell_type": "code",
   "execution_count": 1288,
   "outputs": [
    {
     "data": {
      "text/plain": "   class  feature_1  feature_2  feature_3  feature_4  feature_5  feature_6  \\\n0   36.0   0.000000   0.325831   0.024266   0.703508   0.454962   0.495454   \n1    5.0   0.230769   0.842476   0.095004   0.699710   0.587664   0.687900   \n2   29.0   0.000000   0.748562   0.070003   0.454741   0.791479   0.820838   \n3   35.0   0.153846   0.814872   0.103998   0.591342   0.791981   0.838695   \n4   32.0   0.461538   0.793384   0.085556   0.523369   0.807735   0.838695   \n\n   feature_7  feature_8  feature_9  feature_10  feature_11  feature_12  \\\n0   0.186267   0.385109   0.153731    0.305450    0.512751    0.332917   \n1   0.356208   0.407041   0.171017    0.252791    0.379455    0.204207   \n2   0.704091   0.091261   0.017223    0.033927    0.073304    0.034294   \n3   0.600227   0.167316   0.035574    0.406714    0.529557    0.351359   \n4   0.735215   0.056424   0.012777    0.137020    0.259345    0.116085   \n\n   feature_13  feature_14  feature_15  \n0    0.379755    0.097674    0.422129  \n1    0.172717    0.138704    0.459842  \n2    0.035405    0.020092    0.071054  \n3    0.300249    0.246043    0.599974  \n4    0.103741    0.075136    0.258137  ",
      "text/html": "<div>\n<style scoped>\n    .dataframe tbody tr th:only-of-type {\n        vertical-align: middle;\n    }\n\n    .dataframe tbody tr th {\n        vertical-align: top;\n    }\n\n    .dataframe thead th {\n        text-align: right;\n    }\n</style>\n<table border=\"1\" class=\"dataframe\">\n  <thead>\n    <tr style=\"text-align: right;\">\n      <th></th>\n      <th>class</th>\n      <th>feature_1</th>\n      <th>feature_2</th>\n      <th>feature_3</th>\n      <th>feature_4</th>\n      <th>feature_5</th>\n      <th>feature_6</th>\n      <th>feature_7</th>\n      <th>feature_8</th>\n      <th>feature_9</th>\n      <th>feature_10</th>\n      <th>feature_11</th>\n      <th>feature_12</th>\n      <th>feature_13</th>\n      <th>feature_14</th>\n      <th>feature_15</th>\n    </tr>\n  </thead>\n  <tbody>\n    <tr>\n      <th>0</th>\n      <td>36.0</td>\n      <td>0.000000</td>\n      <td>0.325831</td>\n      <td>0.024266</td>\n      <td>0.703508</td>\n      <td>0.454962</td>\n      <td>0.495454</td>\n      <td>0.186267</td>\n      <td>0.385109</td>\n      <td>0.153731</td>\n      <td>0.305450</td>\n      <td>0.512751</td>\n      <td>0.332917</td>\n      <td>0.379755</td>\n      <td>0.097674</td>\n      <td>0.422129</td>\n    </tr>\n    <tr>\n      <th>1</th>\n      <td>5.0</td>\n      <td>0.230769</td>\n      <td>0.842476</td>\n      <td>0.095004</td>\n      <td>0.699710</td>\n      <td>0.587664</td>\n      <td>0.687900</td>\n      <td>0.356208</td>\n      <td>0.407041</td>\n      <td>0.171017</td>\n      <td>0.252791</td>\n      <td>0.379455</td>\n      <td>0.204207</td>\n      <td>0.172717</td>\n      <td>0.138704</td>\n      <td>0.459842</td>\n    </tr>\n    <tr>\n      <th>2</th>\n      <td>29.0</td>\n      <td>0.000000</td>\n      <td>0.748562</td>\n      <td>0.070003</td>\n      <td>0.454741</td>\n      <td>0.791479</td>\n      <td>0.820838</td>\n      <td>0.704091</td>\n      <td>0.091261</td>\n      <td>0.017223</td>\n      <td>0.033927</td>\n      <td>0.073304</td>\n      <td>0.034294</td>\n      <td>0.035405</td>\n      <td>0.020092</td>\n      <td>0.071054</td>\n    </tr>\n    <tr>\n      <th>3</th>\n      <td>35.0</td>\n      <td>0.153846</td>\n      <td>0.814872</td>\n      <td>0.103998</td>\n      <td>0.591342</td>\n      <td>0.791981</td>\n      <td>0.838695</td>\n      <td>0.600227</td>\n      <td>0.167316</td>\n      <td>0.035574</td>\n      <td>0.406714</td>\n      <td>0.529557</td>\n      <td>0.351359</td>\n      <td>0.300249</td>\n      <td>0.246043</td>\n      <td>0.599974</td>\n    </tr>\n    <tr>\n      <th>4</th>\n      <td>32.0</td>\n      <td>0.461538</td>\n      <td>0.793384</td>\n      <td>0.085556</td>\n      <td>0.523369</td>\n      <td>0.807735</td>\n      <td>0.838695</td>\n      <td>0.735215</td>\n      <td>0.056424</td>\n      <td>0.012777</td>\n      <td>0.137020</td>\n      <td>0.259345</td>\n      <td>0.116085</td>\n      <td>0.103741</td>\n      <td>0.075136</td>\n      <td>0.258137</td>\n    </tr>\n  </tbody>\n</table>\n</div>"
     },
     "execution_count": 1288,
     "metadata": {},
     "output_type": "execute_result"
    }
   ],
   "source": [
    "def normalize(df):\n",
    "    result = df.copy()\n",
    "    for feature_name in df.columns:\n",
    "        if feature_name != 0:\n",
    "            if df[feature_name].dtype == 'float64' or df[feature_name].dtype == 'int32':\n",
    "                max_value = df[feature_name].max()\n",
    "                min_value = df[feature_name].min()\n",
    "                result[feature_name] = (df[feature_name] - min_value) / (max_value - min_value)\n",
    "    return result\n",
    "\n",
    "\n",
    "train = normalize(pd.DataFrame(train))\n",
    "test = normalize(pd.DataFrame(test))\n",
    "\n",
    "columns = [\"class\"]\n",
    "for i in range(1, 16):\n",
    "    columns.append('feature_' +str (i))\n",
    "\n",
    "train.columns = columns\n",
    "test.columns = columns\n",
    "\n",
    "all_data.columns = columns\n",
    "\n",
    "# train = pd.DataFrame(train)\n",
    "# test = pd.DataFrame(test)\n",
    "train.head()"
   ],
   "metadata": {
    "collapsed": false,
    "pycharm": {
     "name": "#%%\n"
    }
   }
  },
  {
   "cell_type": "code",
   "execution_count": 1289,
   "outputs": [
    {
     "name": "stdout",
     "output_type": "stream",
     "text": [
      "[1. 2. 3. 4.]\n",
      "['feature_1', 'feature_2', 'feature_3', 'feature_4', 'feature_5', 'feature_6', 'feature_7', 'feature_8', 'feature_9', 'feature_10', 'feature_11', 'feature_12', 'feature_13', 'feature_14', 'feature_15']\n"
     ]
    }
   ],
   "source": [
    "max_k = 3\n",
    "\n",
    "klasy = train['class'].unique()\n",
    "klasy = np.sort(klasy)\n",
    "print(np.sort(klasy[:4]))\n",
    "\n",
    "cechy = columns\n",
    "if 'class' in cechy:\n",
    "    cechy .remove('class')\n",
    "print(cechy)"
   ],
   "metadata": {
    "collapsed": false,
    "pycharm": {
     "name": "#%%\n"
    }
   }
  },
  {
   "cell_type": "code",
   "execution_count": 1290,
   "outputs": [],
   "source": [
    "class_split = []\n",
    "\n",
    "for klasa in klasy:\n",
    "    class_split.append(train[train['class'] == klasa])\n",
    "\n",
    "for c in class_split:\n",
    "    c.reset_index()"
   ],
   "metadata": {
    "collapsed": false,
    "pycharm": {
     "name": "#%%\n"
    }
   }
  },
  {
   "cell_type": "code",
   "execution_count": 1291,
   "outputs": [],
   "source": [
    "mis = []\n",
    "\n",
    "for c in class_split:\n",
    "    mis.append(c.drop(columns=['class']).mean())"
   ],
   "metadata": {
    "collapsed": false,
    "pycharm": {
     "name": "#%%\n"
    }
   }
  },
  {
   "cell_type": "code",
   "execution_count": 1292,
   "outputs": [
    {
     "data": {
      "text/plain": "feature_1     0.417582\nfeature_2     0.717636\nfeature_3     0.056664\nfeature_4     0.388558\nfeature_5     0.799007\nfeature_6     0.833779\nfeature_7     0.838512\nfeature_8     0.040078\nfeature_9     0.011244\nfeature_10    0.110528\nfeature_11    0.202853\nfeature_12    0.097982\nfeature_13    0.093144\nfeature_14    0.050155\nfeature_15    0.197198\ndtype: float64"
     },
     "execution_count": 1292,
     "metadata": {},
     "output_type": "execute_result"
    }
   ],
   "source": [
    "mis[0]"
   ],
   "metadata": {
    "collapsed": false,
    "pycharm": {
     "name": "#%%\n"
    }
   }
  },
  {
   "cell_type": "code",
   "execution_count": 1293,
   "outputs": [],
   "source": [
    "def covariation_matrix(x: np.array):\n",
    "\n",
    "    mean = x.mean().to_numpy()\n",
    "    x = x.to_numpy()\n",
    "    n = x.shape[0]\n",
    "\n",
    "    mo = x - mean\n",
    "\n",
    "    summer = mo.T @ mo\n",
    "\n",
    "    summer /= (n - 1)\n",
    "\n",
    "    return summer"
   ],
   "metadata": {
    "collapsed": false,
    "pycharm": {
     "name": "#%%\n"
    }
   }
  },
  {
   "cell_type": "code",
   "execution_count": 1294,
   "outputs": [],
   "source": [
    "cov1 = np.cov(class_split[0].drop(columns=['class']).T)"
   ],
   "metadata": {
    "collapsed": false,
    "pycharm": {
     "name": "#%%\n"
    }
   }
  },
  {
   "cell_type": "code",
   "execution_count": 1295,
   "outputs": [],
   "source": [
    "cov2 = covariation_matrix(class_split[0].drop(columns=['class']))"
   ],
   "metadata": {
    "collapsed": false,
    "pycharm": {
     "name": "#%%\n"
    }
   }
  },
  {
   "cell_type": "code",
   "execution_count": 1296,
   "outputs": [
    {
     "data": {
      "text/plain": "array([[ True,  True,  True,  True,  True,  True,  True,  True,  True,\n         True,  True,  True,  True,  True,  True],\n       [ True,  True,  True,  True,  True,  True,  True,  True,  True,\n         True,  True,  True,  True,  True,  True],\n       [ True,  True,  True,  True,  True,  True,  True,  True,  True,\n         True,  True,  True,  True,  True,  True],\n       [ True,  True,  True,  True,  True,  True,  True,  True,  True,\n         True,  True,  True,  True,  True,  True],\n       [ True,  True,  True,  True,  True,  True,  True,  True,  True,\n         True,  True,  True,  True,  True,  True],\n       [ True,  True,  True,  True,  True,  True,  True,  True,  True,\n         True,  True,  True,  True,  True,  True],\n       [ True,  True,  True,  True,  True,  True,  True,  True,  True,\n         True,  True,  True,  True,  True,  True],\n       [ True,  True,  True,  True,  True,  True,  True,  True,  True,\n         True,  True,  True,  True,  True,  True],\n       [ True,  True,  True,  True,  True,  True,  True,  True,  True,\n         True,  True,  True,  True,  True,  True],\n       [ True,  True,  True,  True,  True,  True,  True,  True,  True,\n         True,  True,  True,  True,  True,  True],\n       [ True,  True,  True,  True,  True,  True,  True,  True,  True,\n         True,  True,  True,  True,  True,  True],\n       [ True,  True,  True,  True,  True,  True,  True,  True,  True,\n         True,  True,  True,  True,  True,  True],\n       [ True,  True,  True,  True,  True,  True,  True,  True,  True,\n         True,  True,  True,  True,  True,  True],\n       [ True,  True,  True,  True,  True,  True,  True,  True,  True,\n         True,  True,  True,  True,  True,  True],\n       [ True,  True,  True,  True,  True,  True,  True,  True,  True,\n         True,  True,  True,  True,  True,  True]])"
     },
     "execution_count": 1296,
     "metadata": {},
     "output_type": "execute_result"
    }
   ],
   "source": [
    "(cov1.round(3) == cov2.round(3))"
   ],
   "metadata": {
    "collapsed": false,
    "pycharm": {
     "name": "#%%\n"
    }
   }
  },
  {
   "cell_type": "code",
   "execution_count": 1297,
   "outputs": [],
   "source": [
    "def edist(p1, mi, features):\n",
    "    # print(mi)\n",
    "    ans = 0\n",
    "    for idx, feature in enumerate(features):\n",
    "        # print(p1[feature], p2[feature])\n",
    "        ans += ((p1[feature] - mi[feature]) ** 2)\n",
    "    ans = ans ** (1/2)\n",
    "    return ans"
   ],
   "metadata": {
    "collapsed": false,
    "pycharm": {
     "name": "#%%\n"
    }
   }
  },
  {
   "cell_type": "code",
   "execution_count": 1298,
   "outputs": [],
   "source": [
    "def predict(mi_list, df_test, features_list):\n",
    "    predictions = []\n",
    "    for i in df_test.index:\n",
    "        points = []\n",
    "        for idx, j in enumerate(mi_list, start=1):\n",
    "            test_row = df_test.iloc[i]\n",
    "            current = (edist(test_row, j[0], features_list), j[1])\n",
    "            # print(test_row)\n",
    "            # print(train_row)\n",
    "            # # print(current)\n",
    "            points.append(current)\n",
    "        points = sorted(points, key=lambda x: x[0])\n",
    "        predictions.append(points[0][1])\n",
    "    return np.array(predictions)"
   ],
   "metadata": {
    "collapsed": false,
    "pycharm": {
     "name": "#%%\n"
    }
   }
  },
  {
   "cell_type": "code",
   "execution_count": 1299,
   "outputs": [],
   "source": [
    "def plot2d(train_df, class1, class2, feature1, feature2, test_df=None, miss=None):\n",
    "\n",
    "    plt.figure(figsize=(10, 10))\n",
    "\n",
    "    t1 = train_df[train_df['class'] == class1]\n",
    "    t2 = train_df[train_df['class'] == class2]\n",
    "\n",
    "    plt.scatter(t1[feature1], t1[feature2], c='blue', label='Training class ' + str(class1))\n",
    "    plt.scatter(t2[feature1], t2[feature2], c='orange', label='Training class  ' + str(class2))\n",
    "\n",
    "    if test_df is not None:\n",
    "        p1 = test_df[test_df['observed'] == class1]\n",
    "        p2 = test_df[test_df['observed'] == class2]\n",
    "\n",
    "        plt.scatter(p1[feature1], p1[feature2], c='blue', marker='x', label='Test class ' + str(class1))\n",
    "        plt.scatter(p2[feature1], p2[feature2], c='orange', marker='x', label='Test class ' + str(class2))\n",
    "\n",
    "    if miss is not None:\n",
    "        m1 = miss[0][0]\n",
    "        m2 = miss[1][0]\n",
    "\n",
    "\n",
    "        plt.scatter(m1[feature1], m1[feature2], s=1000, c='red', marker='+', label='Mi of class ' + str(class1))\n",
    "        plt.scatter(m2[feature1], m2[feature2], s=1000, c='yellow', marker='+', label='Mi of class ' + str(class2))\n",
    "\n",
    "    plt.legend()"
   ],
   "metadata": {
    "collapsed": false,
    "pycharm": {
     "name": "#%%\n"
    }
   }
  },
  {
   "cell_type": "code",
   "execution_count": 1300,
   "outputs": [],
   "source": [
    "from sklearn.metrics import ConfusionMatrixDisplay, confusion_matrix, accuracy_score, balanced_accuracy_score, f1_score\n",
    "\n",
    "def show_statistics(true, pred, classes):\n",
    "    cm = confusion_matrix(true, pred)\n",
    "    cmd = ConfusionMatrixDisplay(cm, display_labels=[int(xxx) for xxx in classes])\n",
    "    cmd.plot(cmap='binary')\n",
    "    print('Accuracy:', accuracy_score(true, pred))\n",
    "    bac = balanced_accuracy_score(true, pred)\n",
    "    print('Balanced accuracy:', bac)\n",
    "    f1s = f1_score(true, pred, average='micro')\n",
    "    print('F1 score:', f1s)\n",
    "\n",
    "    return bac, f1s"
   ],
   "metadata": {
    "collapsed": false,
    "pycharm": {
     "name": "#%%\n"
    }
   }
  },
  {
   "cell_type": "code",
   "execution_count": 1301,
   "outputs": [],
   "source": [
    "def evaluate_model(classes, features, k):\n",
    "    wybrane_klasy = classes\n",
    "    wybrane_cechy = features\n",
    "\n",
    "    train_filtered = train[train['class'].isin(wybrane_klasy)]\n",
    "    test_filtered = test[test['class'].isin(wybrane_klasy)]\n",
    "    mis_filtered = []\n",
    "\n",
    "    for kk in wybrane_klasy:\n",
    "        mis_filtered.append((train[train['class'] == kk].mean(), kk))\n",
    "\n",
    "    train_filtered = train_filtered.reset_index()\n",
    "    test_filtered = test_filtered.reset_index()\n",
    "\n",
    "    prediction = predict(mis_filtered, test_filtered, wybrane_cechy)\n",
    "\n",
    "    predicted_test = test_filtered\n",
    "    predicted_test['observed'] = prediction\n",
    "\n",
    "    if len(classes) == 2 and len(features) == 2:\n",
    "        plot2d(train_filtered, classes[0], classes[1], features[0], features[1], predicted_test, mis_filtered)\n",
    "\n",
    "    return show_statistics(predicted_test['class'], predicted_test['observed'], wybrane_klasy)"
   ],
   "metadata": {
    "collapsed": false,
    "pycharm": {
     "name": "#%%\n"
    }
   }
  },
  {
   "cell_type": "code",
   "execution_count": 1302,
   "outputs": [
    {
     "name": "stdout",
     "output_type": "stream",
     "text": [
      "Accuracy: 1.0\n",
      "Balanced accuracy: 1.0\n",
      "F1 score: 1.0\n"
     ]
    },
    {
     "data": {
      "text/plain": "<Figure size 720x720 with 1 Axes>",
      "image/png": "[encoded data removed]"
     },
     "metadata": {
      "needs_background": "light"
     },
     "output_type": "display_data"
    },
    {
     "data": {
      "text/plain": "<Figure size 432x288 with 2 Axes>",
      "image/png": "[encoded data removed]"
     },
     "metadata": {
      "needs_background": "light"
     },
     "output_type": "display_data"
    }
   ],
   "source": [
    "klasy_w = [1, 33]\n",
    "featury = [10, 15]\n",
    "featury = ['feature_' + str(x) for x in featury]\n",
    "k = i\n",
    "\n",
    "bas, f1s = evaluate_model(klasy_w, featury, k)\n",
    "name = 'Classes = ' + str(len(klasy_w)) + ', Features = ' + str(len(featury)) + ', k =' + str(k)"
   ],
   "metadata": {
    "collapsed": false,
    "pycharm": {
     "name": "#%%\n"
    }
   }
  },
  {
   "cell_type": "code",
   "execution_count": null,
   "outputs": [],
   "source": [
    "\n",
    "klasy_w = klasy\n",
    "featury = cechy[:2]\n",
    "# featury = ['feature_' + str(x) for x in featury]\n",
    "\n",
    "bas, f1s = evaluate_model(klasy_w, featury, 1)\n",
    "name = 'Classes = ' + str(len(klasy_w)) + ', Features = ' + str(len(featury))\n"
   ],
   "metadata": {
    "collapsed": false,
    "pycharm": {
     "name": "#%%\n",
     "is_executing": true
    }
   }
  }
 ],
 "metadata": {
  "author": {
   "email": "robert.susik@p.lodz.pl",
   "name": "Robert Susik"
  },
  "kernelspec": {
   "display_name": "Python 3 (ipykernel)",
   "language": "python",
   "name": "python3"
  },
  "language_info": {
   "codemirror_mode": {
    "name": "ipython",
    "version": 3
   },
   "file_extension": ".py",
   "mimetype": "text/x-python",
   "name": "python",
   "nbconvert_exporter": "python",
   "pygments_lexer": "ipython3",
   "version": "3.8.13"
  },
  "toc": {
   "base_numbering": 1,
   "nav_menu": {},
   "number_sections": true,
   "sideBar": true,
   "skip_h1_title": false,
   "title_cell": "Table of Contents",
   "title_sidebar": "Contents",
   "toc_cell": false,
   "toc_position": {},
   "toc_section_display": true,
   "toc_window_display": false
  }
 },
 "nbformat": 4,
 "nbformat_minor": 5
}