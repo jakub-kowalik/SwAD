{
 "cells": [
  {
   "cell_type": "markdown",
   "id": "015118db",
   "metadata": {
    "pycharm": {
     "name": "#%% md\n"
    }
   },
   "source": [
    "# Statystyka w analizie danych\n",
    "\n",
    "\n",
    "## Laboratorium 1\n",
    "\n",
    "\n",
    "### Opis\n",
    "\n",
    "Celem laboratorium jest instalacja środowiska programistycznego oraz zapoznanie się z podstawowymi bibliotekami do przetwarzania danych w języku Python.\n",
    "\n",
    "### Termin\n",
    "Zadanie należy wykonać w trakcie trwania laboratorium lub przed kolejnym terminem.\n",
    "\n",
    "<u>Uwaga:</u>\n",
    "\n",
    "Zadanie indywidualne. Każdy student powinien pobrać treść zadania i wykonać je samodzielnie.\n",
    "Wysyłając zadanie potwierdasz, że wykonałeś je samodzielnie i jest to Twoja indywidualna praca, a materiał przedstawiony w tej pracy jest dla Ciebie zrozumiały.\n",
    "\n",
    "\n",
    "### Zbiór danych\n",
    "\n",
    "Zbiór danych znajduje się w katalogu `dataset/*`.\n",
    "\n",
    "### Przesyłanie zadań\n",
    "\n",
    "Wszystkie pliki należy spakować archiwizatorem **zip** i przesłać za pośrednictwem platformy WIKAMP. Poniżej oczekiwana zawartość archiwum:\n",
    "\n",
    "```\n",
    "+-- 📂 [IMIE.NAZWISKO].zip\n",
    "    +-- 📜 Lab01.ipynb\n",
    "    +-- 📂 dataset\n",
    "        +-- 📜 dane.npz\n",
    "        +-- 📜 dane-ludnosc.npz\n",
    "```\n",
    "\n",
    "\n",
    "\n",
    "### Instalacja środowiska\n",
    "\n",
    "Wymagania:\n",
    "- Python>=3.8\n",
    "- notebook\n",
    "- numpy\n",
    "- pandas\n",
    "- matplotlib\n",
    "- scikit-learn\n",
    "- scipy\n",
    "\n",
    "Sprawdź wersję Pythona jaką masz zainstalowaną w systemie:\n",
    "`python -V`\n",
    "\n",
    "#### Instalacja (dwa warianty):\n",
    "\n",
    "#### Dla zainstalowanej instancji Pythona\n",
    "\n",
    "`pip install notebook numpy pandas matplotlib scikit-learn scipy`\n",
    "\n",
    "#### Dla środowiska Conda\n",
    "\n",
    "`conda create -n smpd python=3.8 notebook numpy pandas matplotlib scikit-learn scipy`\n",
    "\n",
    "\n",
    "### Zadania\n",
    "\n",
    "#### Zadanie 1\n",
    "\n",
    "Wczytaj dane z pliku `dane.npz`. Plik ten zawiera zbiór danych zawierający **WYDATKI BUDŻETÓW WOJEWÓDZTW**.\n",
    "\n",
    "> Podpowiedź: Możesz wykorzystać poniższy kod:\n",
    "```python\n",
    "import np\n",
    "with open('./dataset/dane.npz', 'rb') as f:\n",
    "    content = np.load(f)\n",
    "    columns, data = content['columns'].tolist(), content['data'].tolist()\n",
    "```"
   ]
  },
  {
   "cell_type": "code",
   "execution_count": 9,
   "id": "fd6e4348",
   "metadata": {},
   "outputs": [],
   "source": [
    "import numpy as np\n",
    "with open('./dataset/dane.npz', 'rb') as f:\n",
    "    content = np.load(f)\n",
    "    columns, data = content['columns'].tolist(), content['data'].tolist()"
   ]
  },
  {
   "cell_type": "markdown",
   "id": "40d02277",
   "metadata": {},
   "source": [
    "#### Zadanie 2\n",
    "\n",
    "Zapoznaj się z zawartością zmiennych `columns` oraz `data`.\n"
   ]
  },
  {
   "cell_type": "code",
   "execution_count": 12,
   "outputs": [
    {
     "data": {
      "text/plain": "['Kod', 'Nazwa', 'Rodzaje wydatków', 'Rok', 'Wartosc', 'Jednostka miary']"
     },
     "execution_count": 12,
     "metadata": {},
     "output_type": "execute_result"
    }
   ],
   "source": [
    "columns"
   ],
   "metadata": {
    "collapsed": false,
    "pycharm": {
     "name": "#%%\n"
    }
   }
  },
  {
   "cell_type": "code",
   "execution_count": 13,
   "id": "f82cdea3",
   "metadata": {},
   "outputs": [
    {
     "data": {
      "text/plain": "[['0', 'POLSKA', 'ogółem', '1999', '3264607228.0', 'zł'],\n ['0', 'POLSKA', 'ogółem', '2000', '3787133133.0', 'zł'],\n ['0', 'POLSKA', 'ogółem', '2001', '4737055309.0', 'zł'],\n ['0', 'POLSKA', 'ogółem', '2002', '4340435516.0', 'zł'],\n ['0', 'POLSKA', 'ogółem', '2003', '4712741177.0', 'zł'],\n ['0', 'POLSKA', 'ogółem', '2004', '5863585414.0', 'zł'],\n ['0', 'POLSKA', 'ogółem', '2005', '7587500436.0', 'zł'],\n ['0', 'POLSKA', 'ogółem', '2006', '10028070586.83', 'zł'],\n ['0', 'POLSKA', 'ogółem', '2007', '11092205633.0', 'zł'],\n ['0', 'POLSKA', 'ogółem', '2008', '13002732460.09', 'zł'],\n ['0', 'POLSKA', 'ogółem', '2009', '20468689843.22', 'zł'],\n ['0', 'POLSKA', 'ogółem', '2010', '15245026612.26', 'zł'],\n ['0', 'POLSKA', 'ogółem', '2011', '16338628783.13', 'zł'],\n ['0', 'POLSKA', 'ogółem', '2012', '15760512613.81', 'zł'],\n ['0', 'POLSKA', 'ogółem', '2013', '16527004353.48', 'zł'],\n ['0', 'POLSKA', 'ogółem', '2014', '18238330769.01', 'zł'],\n ['0', 'POLSKA', 'ogółem', '2015', '17202651482.84', 'zł'],\n ['0', 'POLSKA', 'ogółem', '2016', '12617384930.36', 'zł'],\n ['0', 'POLSKA', 'ogółem', '2017', '14317428700.59', 'zł'],\n ['0', 'POLSKA', 'ogółem', '2018', '16582311562.15', 'zł'],\n ['0', 'POLSKA', 'ogółem', '2019', '18375963681.15', 'zł'],\n ['0', 'POLSKA', 'ogółem', '2020', '19707968112.97', 'zł'],\n ['200000', 'DOLNOŚLĄSKIE', 'ogółem', '1999', '332802045.0', 'zł'],\n ['200000', 'DOLNOŚLĄSKIE', 'ogółem', '2000', '350236602.0', 'zł'],\n ['200000', 'DOLNOŚLĄSKIE', 'ogółem', '2001', '382044343.0', 'zł'],\n ['200000', 'DOLNOŚLĄSKIE', 'ogółem', '2002', '320081153.0', 'zł'],\n ['200000', 'DOLNOŚLĄSKIE', 'ogółem', '2003', '330114483.0', 'zł'],\n ['200000', 'DOLNOŚLĄSKIE', 'ogółem', '2004', '416662666.0', 'zł'],\n ['200000', 'DOLNOŚLĄSKIE', 'ogółem', '2005', '569402213.0', 'zł'],\n ['200000', 'DOLNOŚLĄSKIE', 'ogółem', '2006', '795303951.22', 'zł'],\n ['200000', 'DOLNOŚLĄSKIE', 'ogółem', '2007', '877514650.05', 'zł'],\n ['200000', 'DOLNOŚLĄSKIE', 'ogółem', '2008', '1006184128.91', 'zł'],\n ['200000', 'DOLNOŚLĄSKIE', 'ogółem', '2009', '1590343803.76', 'zł'],\n ['200000', 'DOLNOŚLĄSKIE', 'ogółem', '2010', '1303375328.85', 'zł'],\n ['200000', 'DOLNOŚLĄSKIE', 'ogółem', '2011', '1516909961.39', 'zł'],\n ['200000', 'DOLNOŚLĄSKIE', 'ogółem', '2012', '1687230260.48', 'zł'],\n ['200000', 'DOLNOŚLĄSKIE', 'ogółem', '2013', '1588285409.15', 'zł'],\n ['200000', 'DOLNOŚLĄSKIE', 'ogółem', '2014', '1954250899.38', 'zł'],\n ['200000', 'DOLNOŚLĄSKIE', 'ogółem', '2015', '1301033971.69', 'zł'],\n ['200000', 'DOLNOŚLĄSKIE', 'ogółem', '2016', '1083042805.7', 'zł'],\n ['200000', 'DOLNOŚLĄSKIE', 'ogółem', '2017', '1120229836.62', 'zł'],\n ['200000', 'DOLNOŚLĄSKIE', 'ogółem', '2018', '1150624053.45', 'zł'],\n ['200000', 'DOLNOŚLĄSKIE', 'ogółem', '2019', '1114631253.78', 'zł'],\n ['200000', 'DOLNOŚLĄSKIE', 'ogółem', '2020', '1107876256.29', 'zł'],\n ['400000', 'KUJAWSKO-POMORSKIE', 'ogółem', '1999', '180977057.0', 'zł'],\n ['400000', 'KUJAWSKO-POMORSKIE', 'ogółem', '2000', '192597026.0', 'zł'],\n ['400000', 'KUJAWSKO-POMORSKIE', 'ogółem', '2001', '252214121.0', 'zł'],\n ['400000', 'KUJAWSKO-POMORSKIE', 'ogółem', '2002', '243974664.0', 'zł'],\n ['400000', 'KUJAWSKO-POMORSKIE', 'ogółem', '2003', '248833223.0', 'zł'],\n ['400000', 'KUJAWSKO-POMORSKIE', 'ogółem', '2004', '285705976.0', 'zł'],\n ['400000', 'KUJAWSKO-POMORSKIE', 'ogółem', '2005', '370238724.0', 'zł'],\n ['400000', 'KUJAWSKO-POMORSKIE', 'ogółem', '2006', '534325153.84', 'zł'],\n ['400000', 'KUJAWSKO-POMORSKIE', 'ogółem', '2007', '594098806.38', 'zł'],\n ['400000', 'KUJAWSKO-POMORSKIE', 'ogółem', '2008', '640715844.5', 'zł'],\n ['400000', 'KUJAWSKO-POMORSKIE', 'ogółem', '2009', '974548519.7', 'zł'],\n ['400000', 'KUJAWSKO-POMORSKIE', 'ogółem', '2010', '850822733.95', 'zł'],\n ['400000', 'KUJAWSKO-POMORSKIE', 'ogółem', '2011', '774997439.78', 'zł'],\n ['400000', 'KUJAWSKO-POMORSKIE', 'ogółem', '2012', '766102070.4', 'zł'],\n ['400000', 'KUJAWSKO-POMORSKIE', 'ogółem', '2013', '742254837.09', 'zł'],\n ['400000', 'KUJAWSKO-POMORSKIE', 'ogółem', '2014', '834913734.81', 'zł'],\n ['400000', 'KUJAWSKO-POMORSKIE', 'ogółem', '2015', '958712875.37', 'zł'],\n ['400000', 'KUJAWSKO-POMORSKIE', 'ogółem', '2016', '671315168.94', 'zł'],\n ['400000', 'KUJAWSKO-POMORSKIE', 'ogółem', '2017', '688719424.46', 'zł'],\n ['400000', 'KUJAWSKO-POMORSKIE', 'ogółem', '2018', '816078856.11', 'zł'],\n ['400000', 'KUJAWSKO-POMORSKIE', 'ogółem', '2019', '895048154.73', 'zł'],\n ['400000', 'KUJAWSKO-POMORSKIE', 'ogółem', '2020', '1060355763.78', 'zł'],\n ['600000', 'LUBELSKIE', 'ogółem', '1999', '177574160.0', 'zł'],\n ['600000', 'LUBELSKIE', 'ogółem', '2000', '234882079.0', 'zł'],\n ['600000', 'LUBELSKIE', 'ogółem', '2001', '276343246.0', 'zł'],\n ['600000', 'LUBELSKIE', 'ogółem', '2002', '244412631.0', 'zł'],\n ['600000', 'LUBELSKIE', 'ogółem', '2003', '348524747.0', 'zł'],\n ['600000', 'LUBELSKIE', 'ogółem', '2004', '335227919.0', 'zł'],\n ['600000', 'LUBELSKIE', 'ogółem', '2005', '365582182.0', 'zł'],\n ['600000', 'LUBELSKIE', 'ogółem', '2006', '487065495.98', 'zł'],\n ['600000', 'LUBELSKIE', 'ogółem', '2007', '520750157.73', 'zł'],\n ['600000', 'LUBELSKIE', 'ogółem', '2008', '698605287.8', 'zł'],\n ['600000', 'LUBELSKIE', 'ogółem', '2009', '954263984.12', 'zł'],\n ['600000', 'LUBELSKIE', 'ogółem', '2010', '767225609.49', 'zł'],\n ['600000', 'LUBELSKIE', 'ogółem', '2011', '896838689.13', 'zł'],\n ['600000', 'LUBELSKIE', 'ogółem', '2012', '840835098.36', 'zł'],\n ['600000', 'LUBELSKIE', 'ogółem', '2013', '1039809399.75', 'zł'],\n ['600000', 'LUBELSKIE', 'ogółem', '2014', '1485218648.55', 'zł'],\n ['600000', 'LUBELSKIE', 'ogółem', '2015', '1340530862.79', 'zł'],\n ['600000', 'LUBELSKIE', 'ogółem', '2016', '735269130.65', 'zł'],\n ['600000', 'LUBELSKIE', 'ogółem', '2017', '858899366.66', 'zł'],\n ['600000', 'LUBELSKIE', 'ogółem', '2018', '935703842.15', 'zł'],\n ['600000', 'LUBELSKIE', 'ogółem', '2019', '1234156705.55', 'zł'],\n ['600000', 'LUBELSKIE', 'ogółem', '2020', '906992712.98', 'zł'],\n ['800000', 'LUBUSKIE', 'ogółem', '1999', '128535790.0', 'zł'],\n ['800000', 'LUBUSKIE', 'ogółem', '2000', '148514103.0', 'zł'],\n ['800000', 'LUBUSKIE', 'ogółem', '2001', '172469671.0', 'zł'],\n ['800000', 'LUBUSKIE', 'ogółem', '2002', '172135111.0', 'zł'],\n ['800000', 'LUBUSKIE', 'ogółem', '2003', '164387435.0', 'zł'],\n ['800000', 'LUBUSKIE', 'ogółem', '2004', '192923942.0', 'zł'],\n ['800000', 'LUBUSKIE', 'ogółem', '2005', '240113553.0', 'zł'],\n ['800000', 'LUBUSKIE', 'ogółem', '2006', '307897396.69', 'zł'],\n ['800000', 'LUBUSKIE', 'ogółem', '2007', '334479018.68', 'zł'],\n ['800000', 'LUBUSKIE', 'ogółem', '2008', '340059853.25', 'zł'],\n ['800000', 'LUBUSKIE', 'ogółem', '2009', '777352763.08', 'zł'],\n ['800000', 'LUBUSKIE', 'ogółem', '2010', '513350113.35', 'zł'],\n ['800000', 'LUBUSKIE', 'ogółem', '2011', '502206634.5', 'zł'],\n ['800000', 'LUBUSKIE', 'ogółem', '2012', '446772814.33', 'zł'],\n ['800000', 'LUBUSKIE', 'ogółem', '2013', '578337377.11', 'zł'],\n ['800000', 'LUBUSKIE', 'ogółem', '2014', '525217198.18', 'zł'],\n ['800000', 'LUBUSKIE', 'ogółem', '2015', '491401397.61', 'zł'],\n ['800000', 'LUBUSKIE', 'ogółem', '2016', '386418000.68', 'zł'],\n ['800000', 'LUBUSKIE', 'ogółem', '2017', '477110881.38', 'zł'],\n ['800000', 'LUBUSKIE', 'ogółem', '2018', '452688569.49', 'zł'],\n ['800000', 'LUBUSKIE', 'ogółem', '2019', '525102857.87', 'zł'],\n ['800000', 'LUBUSKIE', 'ogółem', '2020', '622710927.28', 'zł'],\n ['1000000', 'ŁÓDZKIE', 'ogółem', '1999', '144237016.0', 'zł'],\n ['1000000', 'ŁÓDZKIE', 'ogółem', '2000', '167458977.0', 'zł'],\n ['1000000', 'ŁÓDZKIE', 'ogółem', '2001', '228622669.0', 'zł'],\n ['1000000', 'ŁÓDZKIE', 'ogółem', '2002', '223364522.0', 'zł'],\n ['1000000', 'ŁÓDZKIE', 'ogółem', '2003', '238002066.0', 'zł'],\n ['1000000', 'ŁÓDZKIE', 'ogółem', '2004', '262075095.0', 'zł'],\n ['1000000', 'ŁÓDZKIE', 'ogółem', '2005', '321538368.0', 'zł'],\n ['1000000', 'ŁÓDZKIE', 'ogółem', '2006', '387885905.82', 'zł'],\n ['1000000', 'ŁÓDZKIE', 'ogółem', '2007', '559583296.56', 'zł'],\n ['1000000', 'ŁÓDZKIE', 'ogółem', '2008', '664259917.26', 'zł'],\n ['1000000', 'ŁÓDZKIE', 'ogółem', '2009', '1425346768.54', 'zł'],\n ['1000000', 'ŁÓDZKIE', 'ogółem', '2010', '863166196.5', 'zł'],\n ['1000000', 'ŁÓDZKIE', 'ogółem', '2011', '956705478.1', 'zł'],\n ['1000000', 'ŁÓDZKIE', 'ogółem', '2012', '902857399.16', 'zł'],\n ['1000000', 'ŁÓDZKIE', 'ogółem', '2013', '753345831.83', 'zł'],\n ['1000000', 'ŁÓDZKIE', 'ogółem', '2014', '729871680.59', 'zł'],\n ['1000000', 'ŁÓDZKIE', 'ogółem', '2015', '749749703.63', 'zł'],\n ['1000000', 'ŁÓDZKIE', 'ogółem', '2016', '646370328.69', 'zł'],\n ['1000000', 'ŁÓDZKIE', 'ogółem', '2017', '646076137.29', 'zł'],\n ['1000000', 'ŁÓDZKIE', 'ogółem', '2018', '803469056.16', 'zł'],\n ['1000000', 'ŁÓDZKIE', 'ogółem', '2019', '956883136.86', 'zł'],\n ['1000000', 'ŁÓDZKIE', 'ogółem', '2020', '1034426778.79', 'zł'],\n ['1200000', 'MAŁOPOLSKIE', 'ogółem', '1999', '261294576.0', 'zł'],\n ['1200000', 'MAŁOPOLSKIE', 'ogółem', '2000', '277753101.0', 'zł'],\n ['1200000', 'MAŁOPOLSKIE', 'ogółem', '2001', '351978928.0', 'zł'],\n ['1200000', 'MAŁOPOLSKIE', 'ogółem', '2002', '365224273.0', 'zł'],\n ['1200000', 'MAŁOPOLSKIE', 'ogółem', '2003', '382772822.0', 'zł'],\n ['1200000', 'MAŁOPOLSKIE', 'ogółem', '2004', '423666507.0', 'zł'],\n ['1200000', 'MAŁOPOLSKIE', 'ogółem', '2005', '534257051.0', 'zł'],\n ['1200000', 'MAŁOPOLSKIE', 'ogółem', '2006', '628366032.19', 'zł'],\n ['1200000', 'MAŁOPOLSKIE', 'ogółem', '2007', '726192723.49', 'zł'],\n ['1200000', 'MAŁOPOLSKIE', 'ogółem', '2008', '923339420.95', 'zł'],\n ['1200000', 'MAŁOPOLSKIE', 'ogółem', '2009', '1498463061.58', 'zł'],\n ['1200000', 'MAŁOPOLSKIE', 'ogółem', '2010', '1198798327.68', 'zł'],\n ['1200000', 'MAŁOPOLSKIE', 'ogółem', '2011', '1404467136.44', 'zł'],\n ['1200000', 'MAŁOPOLSKIE', 'ogółem', '2012', '1142896203.83', 'zł'],\n ['1200000', 'MAŁOPOLSKIE', 'ogółem', '2013', '1107321791.49', 'zł'],\n ['1200000', 'MAŁOPOLSKIE', 'ogółem', '2014', '1216102959.96', 'zł'],\n ['1200000', 'MAŁOPOLSKIE', 'ogółem', '2015', '1107819878.84', 'zł'],\n ['1200000', 'MAŁOPOLSKIE', 'ogółem', '2016', '1114940473.27', 'zł'],\n ['1200000', 'MAŁOPOLSKIE', 'ogółem', '2017', '1294780085.69', 'zł'],\n ['1200000', 'MAŁOPOLSKIE', 'ogółem', '2018', '1312987243.78', 'zł'],\n ['1200000', 'MAŁOPOLSKIE', 'ogółem', '2019', '1333766277.26', 'zł'],\n ['1200000', 'MAŁOPOLSKIE', 'ogółem', '2020', '2011142672.3', 'zł'],\n ['1400000', 'MAZOWIECKIE', 'ogółem', '1999', '367310314.0', 'zł'],\n ['1400000', 'MAZOWIECKIE', 'ogółem', '2000', '406550805.0', 'zł'],\n ['1400000', 'MAZOWIECKIE', 'ogółem', '2001', '578504742.0', 'zł'],\n ['1400000', 'MAZOWIECKIE', 'ogółem', '2002', '494282790.0', 'zł'],\n ['1400000', 'MAZOWIECKIE', 'ogółem', '2003', '517194514.0', 'zł'],\n ['1400000', 'MAZOWIECKIE', 'ogółem', '2004', '1077977856.0', 'zł'],\n ['1400000', 'MAZOWIECKIE', 'ogółem', '2005', '1697348527.0', 'zł'],\n ['1400000', 'MAZOWIECKIE', 'ogółem', '2006', '2361797365.33', 'zł'],\n ['1400000', 'MAZOWIECKIE', 'ogółem', '2007', '2728325009.13', 'zł'],\n ['1400000', 'MAZOWIECKIE', 'ogółem', '2008', '3079249722.19', 'zł'],\n ['1400000', 'MAZOWIECKIE', 'ogółem', '2009', '3244292083.6', 'zł'],\n ['1400000', 'MAZOWIECKIE', 'ogółem', '2010', '2508560153.84', 'zł'],\n ['1400000', 'MAZOWIECKIE', 'ogółem', '2011', '2595390433.85', 'zł'],\n ['1400000', 'MAZOWIECKIE', 'ogółem', '2012', '2462870463.45', 'zł'],\n ['1400000', 'MAZOWIECKIE', 'ogółem', '2013', '2191571206.03', 'zł'],\n ['1400000', 'MAZOWIECKIE', 'ogółem', '2014', '2506820840.56', 'zł'],\n ['1400000', 'MAZOWIECKIE', 'ogółem', '2015', '2593362007.57', 'zł'],\n ['1400000', 'MAZOWIECKIE', 'ogółem', '2016', '2247494439.94', 'zł'],\n ['1400000', 'MAZOWIECKIE', 'ogółem', '2017', '2299038650.67', 'zł'],\n ['1400000', 'MAZOWIECKIE', 'ogółem', '2018', '2638593926.86', 'zł'],\n ['1400000', 'MAZOWIECKIE', 'ogółem', '2019', '3227493805.44', 'zł'],\n ['1400000', 'MAZOWIECKIE', 'ogółem', '2020', '3318269224.02', 'zł'],\n ['1600000', 'OPOLSKIE', 'ogółem', '1999', '92951231.0', 'zł'],\n ['1600000', 'OPOLSKIE', 'ogółem', '2000', '93794230.0', 'zł'],\n ['1600000', 'OPOLSKIE', 'ogółem', '2001', '130175374.0', 'zł'],\n ['1600000', 'OPOLSKIE', 'ogółem', '2002', '112697464.0', 'zł'],\n ['1600000', 'OPOLSKIE', 'ogółem', '2003', '135992868.0', 'zł'],\n ['1600000', 'OPOLSKIE', 'ogółem', '2004', '157776638.0', 'zł'],\n ['1600000', 'OPOLSKIE', 'ogółem', '2005', '243373794.0', 'zł'],\n ['1600000', 'OPOLSKIE', 'ogółem', '2006', '311497845.91', 'zł'],\n ['1600000', 'OPOLSKIE', 'ogółem', '2007', '345984924.88', 'zł'],\n ['1600000', 'OPOLSKIE', 'ogółem', '2008', '371920722.19', 'zł'],\n ['1600000', 'OPOLSKIE', 'ogółem', '2009', '692197631.39', 'zł'],\n ['1600000', 'OPOLSKIE', 'ogółem', '2010', '554954864.03', 'zł'],\n ['1600000', 'OPOLSKIE', 'ogółem', '2011', '484323102.53', 'zł'],\n ['1600000', 'OPOLSKIE', 'ogółem', '2012', '412104600.52', 'zł'],\n ['1600000', 'OPOLSKIE', 'ogółem', '2013', '443150143.75', 'zł'],\n ['1600000', 'OPOLSKIE', 'ogółem', '2014', '471970893.22', 'zł'],\n ['1600000', 'OPOLSKIE', 'ogółem', '2015', '391509139.71', 'zł'],\n ['1600000', 'OPOLSKIE', 'ogółem', '2016', '458349902.64', 'zł'],\n ['1600000', 'OPOLSKIE', 'ogółem', '2017', '447298406.23', 'zł'],\n ['1600000', 'OPOLSKIE', 'ogółem', '2018', '497870527.35', 'zł'],\n ['1600000', 'OPOLSKIE', 'ogółem', '2019', '510221870.4', 'zł'],\n ['1600000', 'OPOLSKIE', 'ogółem', '2020', '546951403.3', 'zł'],\n ['1800000', 'PODKARPACKIE', 'ogółem', '1999', '218955840.0', 'zł'],\n ['1800000', 'PODKARPACKIE', 'ogółem', '2000', '201019204.0', 'zł'],\n ['1800000', 'PODKARPACKIE', 'ogółem', '2001', '277097501.0', 'zł'],\n ['1800000', 'PODKARPACKIE', 'ogółem', '2002', '242044572.0', 'zł'],\n ['1800000', 'PODKARPACKIE', 'ogółem', '2003', '285722634.0', 'zł'],\n ['1800000', 'PODKARPACKIE', 'ogółem', '2004', '319905049.0', 'zł'],\n ['1800000', 'PODKARPACKIE', 'ogółem', '2005', '314160728.0', 'zł'],\n ['1800000', 'PODKARPACKIE', 'ogółem', '2006', '548511911.96', 'zł'],\n ['1800000', 'PODKARPACKIE', 'ogółem', '2007', '513451380.18', 'zł'],\n ['1800000', 'PODKARPACKIE', 'ogółem', '2008', '646018737.58', 'zł'],\n ['1800000', 'PODKARPACKIE', 'ogółem', '2009', '1150085147.13', 'zł'],\n ['1800000', 'PODKARPACKIE', 'ogółem', '2010', '979695587.12', 'zł'],\n ['1800000', 'PODKARPACKIE', 'ogółem', '2011', '962474821.1', 'zł'],\n ['1800000', 'PODKARPACKIE', 'ogółem', '2012', '891000574.02', 'zł'],\n ['1800000', 'PODKARPACKIE', 'ogółem', '2013', '1112201295.51', 'zł'],\n ['1800000', 'PODKARPACKIE', 'ogółem', '2014', '1258740343.68', 'zł'],\n ['1800000', 'PODKARPACKIE', 'ogółem', '2015', '1326488116.14', 'zł'],\n ['1800000', 'PODKARPACKIE', 'ogółem', '2016', '614129253.87', 'zł'],\n ['1800000', 'PODKARPACKIE', 'ogółem', '2017', '916595934.89', 'zł'],\n ['1800000', 'PODKARPACKIE', 'ogółem', '2018', '1143048893.37', 'zł'],\n ['1800000', 'PODKARPACKIE', 'ogółem', '2019', '1056835285.47', 'zł'],\n ['1800000', 'PODKARPACKIE', 'ogółem', '2020', '1203294888.75', 'zł'],\n ['2000000', 'PODLASKIE', 'ogółem', '1999', '113595697.0', 'zł'],\n ['2000000', 'PODLASKIE', 'ogółem', '2000', '122459776.0', 'zł'],\n ['2000000', 'PODLASKIE', 'ogółem', '2001', '162663862.0', 'zł'],\n ['2000000', 'PODLASKIE', 'ogółem', '2002', '146791215.0', 'zł'],\n ['2000000', 'PODLASKIE', 'ogółem', '2003', '143631783.0', 'zł'],\n ['2000000', 'PODLASKIE', 'ogółem', '2004', '171148322.0', 'zł'],\n ['2000000', 'PODLASKIE', 'ogółem', '2005', '182786183.0', 'zł'],\n ['2000000', 'PODLASKIE', 'ogółem', '2006', '288271335.73', 'zł'],\n ['2000000', 'PODLASKIE', 'ogółem', '2007', '304951502.93', 'zł'],\n ['2000000', 'PODLASKIE', 'ogółem', '2008', '334514182.9', 'zł'],\n ['2000000', 'PODLASKIE', 'ogółem', '2009', '616425203.03', 'zł'],\n ['2000000', 'PODLASKIE', 'ogółem', '2010', '411679824.08', 'zł'],\n ['2000000', 'PODLASKIE', 'ogółem', '2011', '518224968.53', 'zł'],\n ['2000000', 'PODLASKIE', 'ogółem', '2012', '492154194.84', 'zł'],\n ['2000000', 'PODLASKIE', 'ogółem', '2013', '560981335.52', 'zł'],\n ['2000000', 'PODLASKIE', 'ogółem', '2014', '743955159.75', 'zł'],\n ['2000000', 'PODLASKIE', 'ogółem', '2015', '930695425.9', 'zł'],\n ['2000000', 'PODLASKIE', 'ogółem', '2016', '374086809.12', 'zł'],\n ['2000000', 'PODLASKIE', 'ogółem', '2017', '521395229.38', 'zł'],\n ['2000000', 'PODLASKIE', 'ogółem', '2018', '794872463.96', 'zł'],\n ['2000000', 'PODLASKIE', 'ogółem', '2019', '986670965.37', 'zł'],\n ['2000000', 'PODLASKIE', 'ogółem', '2020', '861047616.12', 'zł'],\n ['2200000', 'POMORSKIE', 'ogółem', '1999', '128007386.0', 'zł'],\n ['2200000', 'POMORSKIE', 'ogółem', '2000', '212462966.0', 'zł'],\n ['2200000', 'POMORSKIE', 'ogółem', '2001', '273294162.0', 'zł'],\n ['2200000', 'POMORSKIE', 'ogółem', '2002', '249849178.0', 'zł'],\n ['2200000', 'POMORSKIE', 'ogółem', '2003', '284042188.0', 'zł'],\n ['2200000', 'POMORSKIE', 'ogółem', '2004', '315886223.0', 'zł'],\n ['2200000', 'POMORSKIE', 'ogółem', '2005', '442691538.0', 'zł'],\n ['2200000', 'POMORSKIE', 'ogółem', '2006', '558280632.94', 'zł'],\n ['2200000', 'POMORSKIE', 'ogółem', '2007', '597775534.03', 'zł'],\n ['2200000', 'POMORSKIE', 'ogółem', '2008', '712235165.04', 'zł'],\n ['2200000', 'POMORSKIE', 'ogółem', '2009', '1276652154.31', 'zł'],\n ['2200000', 'POMORSKIE', 'ogółem', '2010', '872008677.16', 'zł'],\n ['2200000', 'POMORSKIE', 'ogółem', '2011', '954082774.69', 'zł'],\n ['2200000', 'POMORSKIE', 'ogółem', '2012', '919848258.15', 'zł'],\n ['2200000', 'POMORSKIE', 'ogółem', '2013', '830645601.9', 'zł'],\n ['2200000', 'POMORSKIE', 'ogółem', '2014', '818766991.2', 'zł'],\n ['2200000', 'POMORSKIE', 'ogółem', '2015', '802190478.09', 'zł'],\n ['2200000', 'POMORSKIE', 'ogółem', '2016', '706152131.81', 'zł'],\n ['2200000', 'POMORSKIE', 'ogółem', '2017', '835004871.79', 'zł'],\n ['2200000', 'POMORSKIE', 'ogółem', '2018', '1045300682.75', 'zł'],\n ['2200000', 'POMORSKIE', 'ogółem', '2019', '1317668068.82', 'zł'],\n ['2200000', 'POMORSKIE', 'ogółem', '2020', '1062717321.26', 'zł'],\n ['2400000', 'ŚLĄSKIE', 'ogółem', '1999', '512884285.0', 'zł'],\n ['2400000', 'ŚLĄSKIE', 'ogółem', '2000', '608868288.0', 'zł'],\n ['2400000', 'ŚLĄSKIE', 'ogółem', '2001', '633400326.0', 'zł'],\n ['2400000', 'ŚLĄSKIE', 'ogółem', '2002', '605070887.0', 'zł'],\n ['2400000', 'ŚLĄSKIE', 'ogółem', '2003', '625576612.0', 'zł'],\n ['2400000', 'ŚLĄSKIE', 'ogółem', '2004', '788590235.0', 'zł'],\n ['2400000', 'ŚLĄSKIE', 'ogółem', '2005', '931418874.0', 'zł'],\n ['2400000', 'ŚLĄSKIE', 'ogółem', '2006', '1039986942.9', 'zł'],\n ['2400000', 'ŚLĄSKIE', 'ogółem', '2007', '992706427.59', 'zł'],\n ['2400000', 'ŚLĄSKIE', 'ogółem', '2008', '1263238190.05', 'zł'],\n ['2400000', 'ŚLĄSKIE', 'ogółem', '2009', '1729354997.68', 'zł'],\n ['2400000', 'ŚLĄSKIE', 'ogółem', '2010', '1410033976.05', 'zł'],\n ['2400000', 'ŚLĄSKIE', 'ogółem', '2011', '1456304723.95', 'zł'],\n ['2400000', 'ŚLĄSKIE', 'ogółem', '2012', '1469289966.01', 'zł'],\n ['2400000', 'ŚLĄSKIE', 'ogółem', '2013', '1705527409.44', 'zł'],\n ['2400000', 'ŚLĄSKIE', 'ogółem', '2014', '1772241918.01', 'zł'],\n ['2400000', 'ŚLĄSKIE', 'ogółem', '2015', '1791730265.45', 'zł'],\n ['2400000', 'ŚLĄSKIE', 'ogółem', '2016', '1206728647.44', 'zł'],\n ['2400000', 'ŚLĄSKIE', 'ogółem', '2017', '1227119328.59', 'zł'],\n ['2400000', 'ŚLĄSKIE', 'ogółem', '2018', '1453120887.28', 'zł'],\n ['2400000', 'ŚLĄSKIE', 'ogółem', '2019', '1493579817.19', 'zł'],\n ['2400000', 'ŚLĄSKIE', 'ogółem', '2020', '1933101760.19', 'zł'],\n ['2600000', 'ŚWIĘTOKRZYSKIE', 'ogółem', '1999', '128528670.0', 'zł'],\n ['2600000', 'ŚWIĘTOKRZYSKIE', 'ogółem', '2000', '188966995.0', 'zł'],\n ['2600000', 'ŚWIĘTOKRZYSKIE', 'ogółem', '2001', '198551724.0', 'zł'],\n ['2600000', 'ŚWIĘTOKRZYSKIE', 'ogółem', '2002', '162134613.0', 'zł'],\n ['2600000', 'ŚWIĘTOKRZYSKIE', 'ogółem', '2003', '172603137.0', 'zł'],\n ['2600000', 'ŚWIĘTOKRZYSKIE', 'ogółem', '2004', '179871339.0', 'zł'],\n ['2600000', 'ŚWIĘTOKRZYSKIE', 'ogółem', '2005', '171647698.0', 'zł'],\n ['2600000', 'ŚWIĘTOKRZYSKIE', 'ogółem', '2006', '256106700.64', 'zł'],\n ['2600000', 'ŚWIĘTOKRZYSKIE', 'ogółem', '2007', '312507941.5', 'zł'],\n ['2600000', 'ŚWIĘTOKRZYSKIE', 'ogółem', '2008', '374074677.24', 'zł'],\n ['2600000', 'ŚWIĘTOKRZYSKIE', 'ogółem', '2009', '754335148.66', 'zł'],\n ['2600000', 'ŚWIĘTOKRZYSKIE', 'ogółem', '2010', '560902503.14', 'zł'],\n ['2600000', 'ŚWIĘTOKRZYSKIE', 'ogółem', '2011', '529607027.79', 'zł'],\n ['2600000', 'ŚWIĘTOKRZYSKIE', 'ogółem', '2012', '688317235.62', 'zł'],\n ['2600000', 'ŚWIĘTOKRZYSKIE', 'ogółem', '2013', '734330793.32', 'zł'],\n ['2600000', 'ŚWIĘTOKRZYSKIE', 'ogółem', '2014', '622754062.83', 'zł'],\n ['2600000', 'ŚWIĘTOKRZYSKIE', 'ogółem', '2015', '689683084.63', 'zł'],\n ['2600000', 'ŚWIĘTOKRZYSKIE', 'ogółem', '2016', '384163659.17', 'zł'],\n ['2600000', 'ŚWIĘTOKRZYSKIE', 'ogółem', '2017', '484238151.82', 'zł'],\n ['2600000', 'ŚWIĘTOKRZYSKIE', 'ogółem', '2018', '702670177.59', 'zł'],\n ['2600000', 'ŚWIĘTOKRZYSKIE', 'ogółem', '2019', '685882894.89', 'zł'],\n ['2600000', 'ŚWIĘTOKRZYSKIE', 'ogółem', '2020', '593948498.78', 'zł'],\n ['2800000', 'WARMIŃSKO-MAZURSKIE', 'ogółem', '1999', '103130944.0', 'zł'],\n ['2800000', 'WARMIŃSKO-MAZURSKIE', 'ogółem', '2000', '137065237.0', 'zł'],\n ['2800000', 'WARMIŃSKO-MAZURSKIE', 'ogółem', '2001', '176731493.0', 'zł'],\n ['2800000', 'WARMIŃSKO-MAZURSKIE', 'ogółem', '2002', '168300728.0', 'zł'],\n ['2800000', 'WARMIŃSKO-MAZURSKIE', 'ogółem', '2003', '225101634.0', 'zł'],\n ['2800000', 'WARMIŃSKO-MAZURSKIE', 'ogółem', '2004', '256252208.0', 'zł'],\n ['2800000', 'WARMIŃSKO-MAZURSKIE', 'ogółem', '2005', '291069608.0', 'zł'],\n ['2800000', 'WARMIŃSKO-MAZURSKIE', 'ogółem', '2006', '379222519.45', 'zł'],\n ['2800000', 'WARMIŃSKO-MAZURSKIE', 'ogółem', '2007', '440382704.04', 'zł'],\n ['2800000', 'WARMIŃSKO-MAZURSKIE', 'ogółem', '2008', '449534924.36', 'zł'],\n ['2800000', 'WARMIŃSKO-MAZURSKIE', 'ogółem', '2009', '811125580.33', 'zł'],\n ['2800000', 'WARMIŃSKO-MAZURSKIE', 'ogółem', '2010', '541412169.73', 'zł'],\n ['2800000', 'WARMIŃSKO-MAZURSKIE', 'ogółem', '2011', '580450383.35', 'zł'],\n ['2800000', 'WARMIŃSKO-MAZURSKIE', 'ogółem', '2012', '679455755.81', 'zł'],\n ['2800000', 'WARMIŃSKO-MAZURSKIE', 'ogółem', '2013', '923924611.16', 'zł'],\n ['2800000', 'WARMIŃSKO-MAZURSKIE', 'ogółem', '2014', '1199927479.52', 'zł'],\n ['2800000', 'WARMIŃSKO-MAZURSKIE', 'ogółem', '2015', '949011837.86', 'zł'],\n ['2800000', 'WARMIŃSKO-MAZURSKIE', 'ogółem', '2016', '460628312.42', 'zł'],\n ['2800000', 'WARMIŃSKO-MAZURSKIE', 'ogółem', '2017', '521783115.36', 'zł'],\n ['2800000', 'WARMIŃSKO-MAZURSKIE', 'ogółem', '2018', '612735912.62', 'zł'],\n ['2800000', 'WARMIŃSKO-MAZURSKIE', 'ogółem', '2019', '673591791.81', 'zł'],\n ['2800000', 'WARMIŃSKO-MAZURSKIE', 'ogółem', '2020', '840352513.96', 'zł'],\n ['3000000', 'WIELKOPOLSKIE', 'ogółem', '1999', '229729246.0', 'zł'],\n ['3000000', 'WIELKOPOLSKIE', 'ogółem', '2000', '269988733.0', 'zł'],\n ['3000000', 'WIELKOPOLSKIE', 'ogółem', '2001', '413700877.0', 'zł'],\n ['3000000', 'WIELKOPOLSKIE', 'ogółem', '2002', '389368456.0', 'zł'],\n ['3000000', 'WIELKOPOLSKIE', 'ogółem', '2003', '399883631.0', 'zł'],\n ['3000000', 'WIELKOPOLSKIE', 'ogółem', '2004', '444919877.0', 'zł'],\n ['3000000', 'WIELKOPOLSKIE', 'ogółem', '2005', '583554336.0', 'zł'],\n ['3000000', 'WIELKOPOLSKIE', 'ogółem', '2006', '767480155.2', 'zł'],\n ['3000000', 'WIELKOPOLSKIE', 'ogółem', '2007', '791338060.23', 'zł'],\n ['3000000', 'WIELKOPOLSKIE', 'ogółem', '2008', '962739129.03', 'zł'],\n ['3000000', 'WIELKOPOLSKIE', 'ogółem', '2009', '1882476263.72', 'zł'],\n ['3000000', 'WIELKOPOLSKIE', 'ogółem', '2010', '1122915345.76', 'zł'],\n ['3000000', 'WIELKOPOLSKIE', 'ogółem', '2011', '1353135095.22', 'zł'],\n ['3000000', 'WIELKOPOLSKIE', 'ogółem', '2012', '1136102163.63', 'zł'],\n ['3000000', 'WIELKOPOLSKIE', 'ogółem', '2013', '1385736916.88', 'zł'],\n ['3000000', 'WIELKOPOLSKIE', 'ogółem', '2014', '1226916528.72', 'zł'],\n ['3000000', 'WIELKOPOLSKIE', 'ogółem', '2015', '1040152157.64', 'zł'],\n ['3000000', 'WIELKOPOLSKIE', 'ogółem', '2016', '951545844.61', 'zł'],\n ['3000000', 'WIELKOPOLSKIE', 'ogółem', '2017', '1173187518.44', 'zł'],\n ['3000000', 'WIELKOPOLSKIE', 'ogółem', '2018', '1270477554.41', 'zł'],\n ['3000000', 'WIELKOPOLSKIE', 'ogółem', '2019', '1577343407.27', 'zł'],\n ['3000000', 'WIELKOPOLSKIE', 'ogółem', '2020', '1640704247.45', 'zł'],\n ['3200000', 'ZACHODNIOPOMORSKIE', 'ogółem', '1999', '144092971.0', 'zł'],\n ['3200000', 'ZACHODNIOPOMORSKIE', 'ogółem', '2000', '174515011.0', 'zł'],\n ['3200000', 'ZACHODNIOPOMORSKIE', 'ogółem', '2001', '229262270.0', 'zł'],\n ['3200000', 'ZACHODNIOPOMORSKIE', 'ogółem', '2002', '200703259.0', 'zł'],\n ['3200000', 'ZACHODNIOPOMORSKIE', 'ogółem', '2003', '210357400.0', 'zł'],\n ['3200000', 'ZACHODNIOPOMORSKIE', 'ogółem', '2004', '234995562.0', 'zł'],\n ['3200000', 'ZACHODNIOPOMORSKIE', 'ogółem', '2005', '328317059.0', 'zł'],\n ['3200000', 'ZACHODNIOPOMORSKIE', 'ogółem', '2006', '376071241.03', 'zł'],\n ['3200000', 'ZACHODNIOPOMORSKIE', 'ogółem', '2007', '452163495.6', 'zł'],\n ['3200000', 'ZACHODNIOPOMORSKIE', 'ogółem', '2008', '536042556.84', 'zł'],\n ['3200000', 'ZACHODNIOPOMORSKIE', 'ogółem', '2009', '1091426732.59', 'zł'],\n ['3200000', 'ZACHODNIOPOMORSKIE', 'ogółem', '2010', '786125201.53', 'zł'],\n ['3200000', 'ZACHODNIOPOMORSKIE', 'ogółem', '2011', '852510112.78', 'zł'],\n ['3200000', 'ZACHODNIOPOMORSKIE', 'ogółem', '2012', '822675555.2', 'zł'],\n ['3200000', 'ZACHODNIOPOMORSKIE', 'ogółem', '2013', '829580393.55', 'zł'],\n ['3200000', 'ZACHODNIOPOMORSKIE', 'ogółem', '2014', '870661430.05', 'zł'],\n ['3200000', 'ZACHODNIOPOMORSKIE', 'ogółem', '2015', '738580279.92', 'zł'],\n ['3200000', 'ZACHODNIOPOMORSKIE', 'ogółem', '2016', '576750021.41', 'zł'],\n ['3200000', 'ZACHODNIOPOMORSKIE', 'ogółem', '2017', '805951761.32', 'zł'],\n ['3200000', 'ZACHODNIOPOMORSKIE', 'ogółem', '2018', '952068914.82', 'zł'],\n ['3200000', 'ZACHODNIOPOMORSKIE', 'ogółem', '2019', '787087388.44', 'zł'],\n ['3200000', 'ZACHODNIOPOMORSKIE', 'ogółem', '2020', '964075527.72', 'zł']]"
     },
     "execution_count": 13,
     "metadata": {},
     "output_type": "execute_result"
    }
   ],
   "source": [
    "data"
   ]
  },
  {
   "cell_type": "markdown",
   "id": "2d74fa9e",
   "metadata": {},
   "source": [
    "#### Zadanie 3\n",
    "\n",
    "Wyświetl tylko dane z roku `2008`.\n"
   ]
  },
  {
   "cell_type": "code",
   "execution_count": 14,
   "id": "0f75b74d",
   "metadata": {},
   "outputs": [
    {
     "name": "stdout",
     "output_type": "stream",
     "text": [
      "['0', 'POLSKA', 'ogółem', '2008', '13002732460.09', 'zł']\n",
      "['200000', 'DOLNOŚLĄSKIE', 'ogółem', '2008', '1006184128.91', 'zł']\n",
      "['400000', 'KUJAWSKO-POMORSKIE', 'ogółem', '2008', '640715844.5', 'zł']\n",
      "['600000', 'LUBELSKIE', 'ogółem', '2008', '698605287.8', 'zł']\n",
      "['800000', 'LUBUSKIE', 'ogółem', '2008', '340059853.25', 'zł']\n",
      "['1000000', 'ŁÓDZKIE', 'ogółem', '2008', '664259917.26', 'zł']\n",
      "['1200000', 'MAŁOPOLSKIE', 'ogółem', '2008', '923339420.95', 'zł']\n",
      "['1400000', 'MAZOWIECKIE', 'ogółem', '2008', '3079249722.19', 'zł']\n",
      "['1600000', 'OPOLSKIE', 'ogółem', '2008', '371920722.19', 'zł']\n",
      "['1800000', 'PODKARPACKIE', 'ogółem', '2008', '646018737.58', 'zł']\n",
      "['2000000', 'PODLASKIE', 'ogółem', '2008', '334514182.9', 'zł']\n",
      "['2200000', 'POMORSKIE', 'ogółem', '2008', '712235165.04', 'zł']\n",
      "['2400000', 'ŚLĄSKIE', 'ogółem', '2008', '1263238190.05', 'zł']\n",
      "['2600000', 'ŚWIĘTOKRZYSKIE', 'ogółem', '2008', '374074677.24', 'zł']\n",
      "['2800000', 'WARMIŃSKO-MAZURSKIE', 'ogółem', '2008', '449534924.36', 'zł']\n",
      "['3000000', 'WIELKOPOLSKIE', 'ogółem', '2008', '962739129.03', 'zł']\n",
      "['3200000', 'ZACHODNIOPOMORSKIE', 'ogółem', '2008', '536042556.84', 'zł']\n"
     ]
    }
   ],
   "source": [
    "for x in data:\n",
    "    if x[3] == '2008':\n",
    "        print(x)"
   ]
  },
  {
   "cell_type": "markdown",
   "id": "98078a91",
   "metadata": {},
   "source": [
    "#### Zadanie 4\n",
    "\n",
    "Wyświetl wykres uwzględniając 10 województw (bez sumarycznego dla całego kraju), w których wydatki budżetów były największe.\n",
    "\n",
    "> Podpowiedź: Możesz w tym celu wykorzystać moduł matplotlib.pyplot. Przykład:\n",
    "```python\n",
    "import matplotlib.pyplot as plt\n",
    "plt.bar([1, 2, 3], [5, 2, 4])\n",
    "```\n",
    "\n",
    "> Podpowiedź 2: Sprawdź inne funkcje aby utworzyć tytuł wykresu, oznaczyć osie, wyświetlić legendę i zmienić kolory słupków. https://matplotlib.org/stable/tutorials/introductory/pyplot.html"
   ]
  },
  {
   "cell_type": "code",
   "execution_count": 37,
   "id": "44b0bcb4",
   "metadata": {},
   "outputs": [
    {
     "data": {
      "text/plain": "<BarContainer object of 10 artists>"
     },
     "execution_count": 37,
     "metadata": {},
     "output_type": "execute_result"
    },
    {
     "data": {
      "text/plain": "<Figure size 432x288 with 1 Axes>",
      "image/png": "[encoded data removed]"
     },
     "metadata": {
      "needs_background": "light"
     },
     "output_type": "display_data"
    }
   ],
   "source": [
    "import matplotlib.pyplot as plt\n",
    "import pandas as pd\n",
    "\n",
    "nazwy_set = set(row[1] for row in data)\n",
    "nazwy_set.remove(\"POLSKA\")\n",
    "output = list()\n",
    "\n",
    "for wojewodztwo in nazwy_set:\n",
    "    sum = 0\n",
    "    for x in data:\n",
    "        if x[1] == wojewodztwo:\n",
    "            sum += float(x[4])\n",
    "    output.append([wojewodztwo, sum])\n",
    "\n",
    "output.sort(key=lambda x: x[1], reverse=True)\n",
    "output = output[:10]\n",
    "\n",
    "bar_x, bar_y = [*zip(*output)]\n",
    "\n",
    "plt.xticks(rotation=90)\n",
    "plt.bar(bar_x, bar_y)\n",
    "\n",
    "### Alternatywne rozwiazanie w pandas\n",
    "# df = pd.DataFrame(data)\n",
    "# df.columns = columns\n",
    "# df['Wartosc'] = df['Wartosc'].astype(float)\n",
    "#\n",
    "# df.groupby(by=['Nazwa']).sum().nlargest(10, 'Wartosc').drop('POLSKA').plot.bar()"
   ]
  },
  {
   "cell_type": "markdown",
   "id": "2148774e",
   "metadata": {},
   "source": [
    "#### Zadanie 5\n",
    "\n",
    "Wczytaj dane z pliku `dane-ludnosc.npz`. Plik ten zawiera zbiór danych zawierający **liczbę ludnosci**.\n",
    "\n",
    "Oblicz wydatki z budżetu na mieszkańca dla każdego z województw (_uwzględnij dane dla roku `2008`_).\n"
   ]
  },
  {
   "cell_type": "code",
   "execution_count": 6,
   "id": "2ed3a2d6",
   "metadata": {},
   "outputs": [],
   "source": [
    "# TUTAJ UMIESC SWOJ KOD"
   ]
  },
  {
   "cell_type": "markdown",
   "id": "53e771bb",
   "metadata": {},
   "source": [
    "#### Zadanie 6\n",
    "\n",
    "Wykonaj dalszą analizę zbiorów danych (dowolną). Czy coś ciekawego zaobserwowałeś?\n"
   ]
  },
  {
   "cell_type": "code",
   "execution_count": 7,
   "id": "c3e13f17",
   "metadata": {},
   "outputs": [],
   "source": [
    "# TUTAJ UMIESC SWOJ KOD"
   ]
  }
 ],
 "metadata": {
  "author": {
   "email": "robert.susik@p.lodz.pl",
   "name": "Robert Susik"
  },
  "kernelspec": {
   "display_name": "Python 3 (ipykernel)",
   "language": "python",
   "name": "python3"
  },
  "language_info": {
   "codemirror_mode": {
    "name": "ipython",
    "version": 3
   },
   "file_extension": ".py",
   "mimetype": "text/x-python",
   "name": "python",
   "nbconvert_exporter": "python",
   "pygments_lexer": "ipython3",
   "version": "3.8.12"
  },
  "toc": {
   "base_numbering": 1,
   "nav_menu": {},
   "number_sections": true,
   "sideBar": true,
   "skip_h1_title": false,
   "title_cell": "Table of Contents",
   "title_sidebar": "Contents",
   "toc_cell": false,
   "toc_position": {},
   "toc_section_display": true,
   "toc_window_display": false
  }
 },
 "nbformat": 4,
 "nbformat_minor": 5
}