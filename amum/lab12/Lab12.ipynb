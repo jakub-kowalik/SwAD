{
 "cells": [
  {
   "cell_type": "markdown",
   "id": "1d685a9d",
   "metadata": {
    "pycharm": {
     "name": "#%% md\n"
    }
   },
   "source": [
    "# Algorytmika i matematyka uczenia maszynowego \n",
    "## Laboratorium 12 - przekształcenia\n",
    "\n"
   ]
  },
  {
   "cell_type": "markdown",
   "id": "00dc6e5d",
   "metadata": {
    "pycharm": {
     "name": "#%% md\n"
    }
   },
   "source": [
    "\n",
    "\n",
    "\n",
    "### Zadanie 1\n",
    "\n",
    "1) Utwórz macierz (zbiór punktów) reprezentującą figurę geometryczną, składającą się z minimum 4 punktów, której \"punkt centralny\" (na oko) znajduje się w punkcie `(0, 0)`.\n",
    "\n",
    "2) Wyświetl utworzoną figurę na wykresie.\n",
    "\n",
    "> Podpowiedź: możesz użyć funkcji [`plt.fill`](https://matplotlib.org/3.5.0/api/_as_gen/matplotlib.pyplot.fill.html)\n",
    "\n",
    "Kolejne zadania wykonuj używając macierz utworzoną w tym zadaniu (chyba, że podano inaczej).\n"
   ]
  },
  {
   "cell_type": "code",
   "execution_count": 101,
   "id": "14de0e07",
   "metadata": {
    "pycharm": {
     "name": "#%%\n"
    }
   },
   "outputs": [
    {
     "data": {
      "text/plain": "array([[ 1,  0],\n       [ 0,  1],\n       [-1,  0],\n       [ 0, -1]])"
     },
     "execution_count": 101,
     "metadata": {},
     "output_type": "execute_result"
    }
   ],
   "source": [
    "# >> UZUPEŁNIJ <<\n",
    "import matplotlib.pyplot as plt\n",
    "import numpy as np\n",
    "\n",
    "my_fig = np.array([[1, 0] ,[0, 1], [-1, 0], [0, -1]])\n",
    "my_fig"
   ]
  },
  {
   "cell_type": "code",
   "execution_count": 102,
   "id": "43001e51",
   "metadata": {
    "pycharm": {
     "name": "#%%\n"
    }
   },
   "outputs": [
    {
     "data": {
      "text/plain": "[<matplotlib.patches.Polygon at 0x23e56a23ca0>]"
     },
     "execution_count": 102,
     "metadata": {},
     "output_type": "execute_result"
    },
    {
     "data": {
      "text/plain": "<Figure size 432x288 with 1 Axes>",
      "image/png": "[encoded data removed]"
     },
     "metadata": {
      "needs_background": "light"
     },
     "output_type": "display_data"
    }
   ],
   "source": [
    "plt.fill(my_fig[:, 0], my_fig[:, 1])"
   ]
  },
  {
   "cell_type": "markdown",
   "id": "ba80edf2",
   "metadata": {
    "pycharm": {
     "name": "#%% md\n"
    }
   },
   "source": [
    "### Zadanie 2\n",
    "\n",
    "Aby wykonać przekształcenie należy pomnożyć macierz przekształcaną przez _mecierz przekształcenia_. Poniżej wymienione są przykładowe macierze przekształceń pozwalające wykonać tranformacje:\n",
    "\n",
    "Obrót o kąt $\\theta$:\n",
    "\n",
    "$$\n",
    "A_\\theta = \\begin{pmatrix}\n",
    "\\text{cos}\\theta & -\\text{sin}\\theta\\\\\n",
    "\\text{sin}\\theta & \\text{cos}\\theta\n",
    "\\end{pmatrix}\n",
    "$$\n",
    "\n",
    "Rozciągnięcie wzdłuż osi $0x$:\n",
    "\n",
    "$$\n",
    "A_k = \\begin{pmatrix}\n",
    "k & 0\\\\\n",
    "0 & 1\n",
    "\\end{pmatrix}\n",
    "$$\n",
    "\n",
    "Rozciągnięcie wzdłuż osi $0y$:\n",
    "\n",
    "$$\n",
    "A_k = \\begin{pmatrix}\n",
    "1 & 0\\\\\n",
    "0 & k\n",
    "\\end{pmatrix}\n",
    "$$\n",
    "\n",
    "Rozciągnięcie w proporcji $k_x$ wzdłuż osi $0x$ i w proporcji $k_y$ wzdłuż osi $0y$:\n",
    "\n",
    "$$\n",
    "A_k = \\begin{pmatrix}\n",
    "k_x & 0\\\\\n",
    "0 & k_y\n",
    "\\end{pmatrix}\n",
    "$$\n",
    "\n",
    "Pochylenie względem osi $0y$:\n",
    "\n",
    "$$\n",
    "A_k = \\begin{pmatrix}\n",
    "1 & k\\\\\n",
    "0 & 1\n",
    "\\end{pmatrix}\n",
    "$$\n",
    "\n",
    "Pochylenie względem osi $0x$:\n",
    "\n",
    "$$\n",
    "A_k = \\begin{pmatrix}\n",
    "1 & 0\\\\\n",
    "k & 1\n",
    "\\end{pmatrix}\n",
    "$$\n",
    "\n",
    "\n",
    "\n",
    "**Polecenie**\n",
    "\n",
    "Utwórz trzy animacje dla obrotu, rozciągnięcia i pochylenia (odpowiednio).\n",
    "\n",
    "\n",
    "Przykład:\n",
    "\n",
    "<div style=\"display: flex; flex-direction: row; flex-wrap: wrap; justify-content: center; width:100%;\">\n",
    "<img src=\"./Figure_2_rot.gif\" height=\"300\" width=\"300\" />\n",
    "<img src=\"./Figure_2_strech.gif\" height=\"300\" width=\"300\" />\n",
    "<img src=\"./Figure_2_shear.gif\" height=\"300\" width=\"300\" />\n",
    "</div>\n"
   ]
  },
  {
   "cell_type": "code",
   "execution_count": 103,
   "id": "edb2b27e",
   "metadata": {
    "pycharm": {
     "name": "#%%\n"
    }
   },
   "outputs": [],
   "source": [
    "# >> UZUPEŁNIJ <<\n",
    "\n",
    "def rotate_by(angle):\n",
    "    return np.array([[np.cos(np.deg2rad(angle)), -np.sin(np.deg2rad(angle))], \n",
    "                     [np.sin(np.deg2rad(angle)), np.cos(np.deg2rad(angle))]])\n",
    "\n",
    "\n",
    "def stretch_by(k, k2=None, axis='x'):\n",
    "    if axis == 'x':\n",
    "        return np.array([[k, 0], [0, 1]])\n",
    "    elif axis == 'y':\n",
    "        return np.array([[1, 0], [0, k]])\n",
    "    elif axis == 'both':\n",
    "        return np.array([[k, 0], [0, k2]])\n",
    "    else:\n",
    "        raise ValueError\n",
    "\n",
    "\n",
    "def lean_by(k, axis='x'):\n",
    "    if axis == 'x':\n",
    "        return np.array([[1, k], [0, 1]])\n",
    "    elif axis == 'y':\n",
    "        return np.array([[1, 0], [k, 1]])\n",
    "    else:\n",
    "        raise ValueError\n",
    "\n",
    "rotated  = my_fig @ rotate_by(45)"
   ]
  },
  {
   "cell_type": "code",
   "execution_count": 104,
   "id": "51b77b01",
   "metadata": {
    "pycharm": {
     "name": "#%%\n"
    }
   },
   "outputs": [
    {
     "data": {
      "text/plain": "[<matplotlib.patches.Polygon at 0x23e572a6700>]"
     },
     "execution_count": 104,
     "metadata": {},
     "output_type": "execute_result"
    },
    {
     "data": {
      "text/plain": "<Figure size 432x288 with 1 Axes>",
      "image/png": "[encoded data removed]"
     },
     "metadata": {
      "needs_background": "light"
     },
     "output_type": "display_data"
    }
   ],
   "source": [
    "plt.xlim((-2, 2))\n",
    "plt.ylim((-2, 2))\n",
    "plt.fill(rotated[:, 0], rotated[:, 1])"
   ]
  },
  {
   "cell_type": "markdown",
   "id": "95498005",
   "metadata": {
    "pycharm": {
     "name": "#%% md\n"
    }
   },
   "source": [
    "### Zadanie 3 (przekształcenia afiniczne)\n",
    "\n",
    "Przekształcenia afiniczne pozwalają na wykonywanie operacji _translacji_ i łączenia jej z innymi operacjami przekształcenia. \n",
    "Aby wykonać przekształcenie afiniczne należy zmienić reprezentację punktu $(x, y) \\in R^2$ na $(x, y, 1) \\in R^3$. W ten sposób macierz przekształceń osiąga wymiar 3x3. Macierz pozwalająca wykonanie operacji translacji (przesunięcie o wektor $[k_x, k_y]$) wygląda wtedy następująco:\n",
    "\n",
    "$$\n",
    "A_k = \\begin{pmatrix}\n",
    "1 & 0 & k_x \\\\\n",
    "0 & 1 & k_y \\\\\n",
    "0 & 0 & 1\n",
    "\\end{pmatrix}\n",
    "$$\n",
    "\n",
    "\n",
    "Pozostałe operacje analogicznie jak wcześniej, np. operacja obrotu:\n",
    "\n",
    "$$\n",
    "A_\\theta = \\begin{pmatrix}\n",
    "\\text{cos}\\theta & -\\text{sin}\\theta & 0\\\\\n",
    "\\text{sin}\\theta & \\text{cos}\\theta & 0 \\\\\n",
    "0 & 0 & 1\n",
    "\\end{pmatrix}\n",
    "$$\n",
    "\n",
    "**Polecenie**\n",
    "\n",
    "Wykonaj animację, gdzie operacja translacji oraz obrotu są wykonywane za pomocą jednej operacji macierzowej.\n",
    "\n",
    "> Podpowiedź: należy \"połączyć\" macierze przekształceń w jedną.\n",
    "\n",
    "\n",
    "Przykład:\n",
    "\n",
    "<img src=\"./Figure_3.gif\" height=\"300\" width=\"300\" />"
   ]
  },
  {
   "cell_type": "code",
   "execution_count": 105,
   "id": "fed502ac",
   "metadata": {
    "pycharm": {
     "name": "#%%\n"
    }
   },
   "outputs": [
    {
     "data": {
      "text/plain": "array([[ 1.,  5.,  1.],\n       [ 0.,  6.,  1.],\n       [-1.,  5.,  1.],\n       [ 0.,  4.,  1.]])"
     },
     "execution_count": 105,
     "metadata": {},
     "output_type": "execute_result"
    },
    {
     "data": {
      "text/plain": "<Figure size 432x288 with 1 Axes>",
      "image/png": "[encoded data removed]"
     },
     "metadata": {
      "needs_background": "light"
     },
     "output_type": "display_data"
    }
   ],
   "source": [
    "# >> UZUPEŁNIJ <<\n",
    "\n",
    "def affine_transformation(kx, ky, theta):\n",
    "    return np.array([[np.cos(np.deg2rad(theta)), -np.sin(np.deg2rad(theta)), kx],\n",
    "                     [np.sin(np.deg2rad(theta)), np.cos(np.deg2rad(theta)), ky],\n",
    "                     [0, 0, 1]])\n",
    "\n",
    "my_fig = np.c_[my_fig, np.ones(my_fig.shape[0])]\n",
    "\n",
    "affined = my_fig @ affine_transformation(0, 5, 0).T\n",
    "\n",
    "plt.xlim((-20, 20))\n",
    "plt.ylim((-20, 20))\n",
    "plt.fill(affined[:, 0], affined[:, 1])\n",
    "\n",
    "affined"
   ]
  },
  {
   "cell_type": "markdown",
   "id": "e83ee04f",
   "metadata": {
    "pycharm": {
     "name": "#%% md\n"
    }
   },
   "source": [
    "### Zadanie 4 (przekształcenia macierzowe w 3D)\n",
    "\n",
    "1) Utwórz prostą figurę geometryczną złożoną z 8 punktów w przestrzeni 3D (podobnie jak w pierwszym zadaniu).\n",
    "\n",
    "2) Utwórz animację obrotu figury względem osi $0z$.\n",
    "\n",
    "> Aby wykonać taki obrót należy użyć poniższej macierzy przekształceń:\n",
    "$$\n",
    "A_\\theta = \\begin{pmatrix}\n",
    "\\text{cos}\\theta & -\\text{sin}\\theta & 0\\\\\n",
    "\\text{sin}\\theta & \\text{cos}\\theta & 0 \\\\\n",
    "0 & 0 & 1\n",
    "\\end{pmatrix}\n",
    "$$\n",
    "\n",
    "**Przykład**\n",
    "\n",
    "\n",
    "<img src=\"./Figure_4.gif\" height=\"300\" width=\"300\" />"
   ]
  },
  {
   "cell_type": "code",
   "execution_count": 133,
   "id": "d859f9d7",
   "metadata": {
    "pycharm": {
     "name": "#%%\n"
    }
   },
   "outputs": [
    {
     "data": {
      "text/plain": "<Figure size 432x288 with 1 Axes>",
      "image/png": "[encoded data removed]"
     },
     "metadata": {
      "needs_background": "light"
     },
     "output_type": "display_data"
    }
   ],
   "source": [
    "# >> UZUPEŁNIJ <<\n",
    "# plot 3d graph of eight points\n",
    "\n",
    "my3dfig = np.array([[0, 0, 0], [1, 0, 0], [1, 1, 1], [0, 1, 1],\n",
    "                    [0, 0, 1], [0, 1, 0], [1, 1, 0],[0, 0, 0]\n",
    "                    ])\n",
    "\n",
    "def plot3d(points):\n",
    "    fig = plt.figure()\n",
    "    ax = fig.add_subplot(projection='3d')\n",
    "    ax.scatter(points[:, 0], points[:, 1], points[:, 2])\n",
    "    ax.plot(points[:, 0], points[:, 1], points[:, 2])\n",
    "    plt.show()\n",
    "\n",
    "plot3d(my3dfig)"
   ]
  },
  {
   "cell_type": "markdown",
   "id": "1a437913",
   "metadata": {
    "pycharm": {
     "name": "#%% md\n"
    }
   },
   "source": [
    "### Zadanie 5\n",
    "\n",
    "Połącz punkty (jeżeli nie zrobiłeś wcześniej) figury z poprzedniego zadania.\n",
    "\n",
    "**Przykład**\n",
    "\n",
    "\n",
    "<img src=\"./Figure_5.gif\" height=\"300\" width=\"300\" />"
   ]
  },
  {
   "cell_type": "code",
   "execution_count": 107,
   "id": "78056a0e",
   "metadata": {
    "pycharm": {
     "name": "#%%\n"
    }
   },
   "outputs": [],
   "source": [
    "# >> UZUPEŁNIJ <<"
   ]
  },
  {
   "cell_type": "markdown",
   "source": [
    "# Wnioski\n",
    "Wszystkie zadania zostały wykonane zgodnie z założeniami.\n",
    "Do generacji animacji sluza pliki plot1.py, plot2.py, plot3.py, plot4.py, plot5.py."
   ],
   "metadata": {
    "collapsed": false,
    "pycharm": {
     "name": "#%% md\n"
    }
   }
  }
 ],
 "metadata": {
  "author": {
   "email": "robert.susik@p.lodz.pl",
   "name": "Robert Susik"
  },
  "kernelspec": {
   "display_name": "Python 3 (ipykernel)",
   "language": "python",
   "name": "python3"
  },
  "language_info": {
   "codemirror_mode": {
    "name": "ipython",
    "version": 3
   },
   "file_extension": ".py",
   "mimetype": "text/x-python",
   "name": "python",
   "nbconvert_exporter": "python",
   "pygments_lexer": "ipython3",
   "version": "3.9.7"
  },
  "toc": {
   "base_numbering": 1,
   "nav_menu": {},
   "number_sections": true,
   "sideBar": true,
   "skip_h1_title": false,
   "title_cell": "Table of Contents",
   "title_sidebar": "Contents",
   "toc_cell": false,
   "toc_position": {},
   "toc_section_display": true,
   "toc_window_display": false
  }
 },
 "nbformat": 4,
 "nbformat_minor": 5
}