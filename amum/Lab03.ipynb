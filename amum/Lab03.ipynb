{
 "cells": [
  {
   "cell_type": "markdown",
   "id": "59b5dc28",
   "metadata": {
    "pycharm": {
     "name": "#%% md\n"
    }
   },
   "source": [
    "# Algorytmika i matematyka uczenia maszynowego \n",
    "## Laboratorium 3\n",
    "\n",
    "Do wykonania laboratorium należy skorzystać z bibliotek:\n",
    "- [numpy](https://numpy.org/)\n",
    "- [matplotlib](https://matplotlib.org/)\n",
    "\n",
    "### Zadanie 1 - zakupy\n",
    "\n",
    "W sklepie dostępne są następujące produkty:\n",
    "\n",
    "| Produkt | Cena (netto) | Podatek |\n",
    "| --- | --- | --- |\n",
    "| Chleb | 3 | 5% |\n",
    "| Butelka wody (1l) | 2 | 8% |\n",
    "| Pomidor 1szt. | 2 | 5% |\n",
    "| Olej (1l) | 6 | 5% |\n",
    "| Szafran | 1.5 | 8% |\n",
    "| Krewetki (opakowanie) | 20 | 23% |\n",
    "| Lód (opakowanie) | 5 | 23% |\n",
    "\n",
    "\n",
    "#### Zadanie 1 A\n",
    "\n",
    "- Zapisz nazwy produktów w tablicy `N`.\n",
    "- Zapisz ceny produktów w tablicy `C`.\n",
    "- Zapisz podatek w tablicy `P`.\n",
    "\n",
    "*(tablicy jedno wymiarowej czyli wektorze)*\n",
    "\n"
   ]
  },
  {
   "cell_type": "code",
   "execution_count": 396,
   "id": "adf73c67",
   "metadata": {
    "pycharm": {
     "name": "#%%\n"
    }
   },
   "outputs": [],
   "source": [
    "# <<UZUPEŁNIJ>>\n",
    "import numpy as np\n",
    "import matplotlib.pyplot as plt\n",
    "\n",
    "N = ['Chleb', 'Butelka wody (1l)', 'Pomidor', 'Olej (1l)', 'Szafran', 'Krewetki (opakowanie)', 'Lód (opakowanie)']\n",
    "C = [3, 2, 2, 6, 1.5, 20, 5]\n",
    "P = [0.05, 0.08, 0.05, 0.05, 0.08, 0.23, 0.23]"
   ]
  },
  {
   "cell_type": "markdown",
   "id": "ca4e7af2",
   "metadata": {
    "pycharm": {
     "name": "#%% md\n"
    }
   },
   "source": [
    "#### Zadanie 1 B\n",
    "\n",
    "Klient kupił:\n",
    "\n",
    "- 2 szt. chleba, \n",
    "- 6 butelek wody,\n",
    "- 1 opakowanie krewetek.\n",
    "\n",
    "Zapisz zakupy klienta w wektorze `Z` (zachowaj wymiarowość)."
   ]
  },
  {
   "cell_type": "code",
   "execution_count": 397,
   "id": "81391828",
   "metadata": {
    "pycharm": {
     "name": "#%%\n"
    }
   },
   "outputs": [],
   "source": [
    "# <<UZUPEŁNIJ>>\n",
    "\n",
    "Z = [2, 6, 0, 0, 0, 1, 0]\n",
    "Z = np.asarray(Z)"
   ]
  },
  {
   "cell_type": "markdown",
   "id": "4d64ce4b",
   "metadata": {
    "pycharm": {
     "name": "#%% md\n"
    }
   },
   "source": [
    "\n",
    "#### Zadanie 1C\n",
    "\n",
    "Oblicz sumę **netto** jaką klient musi zapłacić bez używania:\n",
    "- operatora `+`, \n",
    "- funkcji/metody `sum`\n",
    "- operatego mnożenia skalarnego (`*`, `__mul__`).\n",
    "\n",
    "_Podpowiedź: jeden z wektorów trzeba transponować_"
   ]
  },
  {
   "cell_type": "code",
   "execution_count": 398,
   "id": "bb0b4e4e",
   "metadata": {
    "pycharm": {
     "name": "#%%\n"
    }
   },
   "outputs": [
    {
     "data": {
      "text/plain": "38.0"
     },
     "execution_count": 398,
     "metadata": {},
     "output_type": "execute_result"
    }
   ],
   "source": [
    "# <<UZUPEŁNIJ>>\n",
    "C = np.asarray(C)\n",
    "netto = C.T @ Z\n",
    "netto"
   ]
  },
  {
   "cell_type": "markdown",
   "id": "fe9e7805",
   "metadata": {
    "pycharm": {
     "name": "#%% md\n"
    }
   },
   "source": [
    "#### Zadanie 1D\n",
    "\n",
    "Oblicz wartość **brutto** jaką klient musi zapłacić w sklepie. W tym zadaniu możesz użyć operatora `*`.\n",
    "\n",
    "Dodatkowo, wyświetl rachunek w postaci tabeli zawierającą kolumny: \n",
    "- nazwa produktu,\n",
    "- cena netto, \n",
    "- liczba sztuk, \n",
    "- cena netto danej pozycji (cena netto x liczba sztuk), \n",
    "- podatek (procentowo np. `5%`),\n",
    "- cena brutto danej pozycji. \n",
    "\n",
    "Na końcu tabeli ma się wyświetlić suma brutto do zapłaty."
   ]
  },
  {
   "cell_type": "code",
   "execution_count": 399,
   "id": "f11e2e28",
   "metadata": {
    "pycharm": {
     "name": "#%%\n"
    }
   },
   "outputs": [
    {
     "data": {
      "text/plain": "array([['Chleb', '3.0', '2', '6.0', '0.05', '6.3'],\n       ['Butelka wody (1l)', '2.0', '6', '12.0', '0.08', '12.96'],\n       ['Pomidor', '2.0', '0', '0.0', '0.05', '0.0'],\n       ['Olej (1l)', '6.0', '0', '0.0', '0.05', '0.0'],\n       ['Szafran', '1.5', '0', '0.0', '0.08', '0.0'],\n       ['Krewetki (opakowanie)', '20.0', '1', '20.0', '0.23', '24.6'],\n       ['Lód (opakowanie)', '5.0', '0', '0.0', '0.23', '0.0'],\n       [' ', ' ', ' ', ' ', 'DO ZAPLATY: ', '43.86']], dtype='<U32')"
     },
     "execution_count": 399,
     "metadata": {},
     "output_type": "execute_result"
    }
   ],
   "source": [
    "# <<UZUPEŁNIJ>>\n",
    "tab = np.asarray([N, C, Z, C.T * Z, P, C.T * Z + C.T * P * Z])\n",
    "ans = tab.T\n",
    "suma = []\n",
    "for i in range(ans.shape[1] - 2):\n",
    "    suma.append(\" \")\n",
    "\n",
    "do_zaplaty = (C + C * P).T @ Z\n",
    "\n",
    "suma.append(\"DO ZAPLATY: \")\n",
    "suma.append(do_zaplaty)\n",
    "\n",
    "ans = np.vstack((ans, suma))\n",
    "ans"
   ]
  },
  {
   "cell_type": "markdown",
   "id": "67b1b17f",
   "metadata": {
    "heading_collapsed": true,
    "pycharm": {
     "name": "#%% md\n"
    }
   },
   "source": [
    "### Zadanie 2\n",
    "\n",
    "Zmodyfikuj kod z zadania pierwszego w ten sposób, że dane o produktach będą wczytywane z pliku `produkty.csv` a dane do rachunku (liczba zakupionych produktów) z pliku `rachunek.csv`.\n",
    "\n",
    "Utwórz przykładowe dane (inne niż w zadaniu 1)."
   ]
  },
  {
   "cell_type": "code",
   "execution_count": 400,
   "outputs": [
    {
     "data": {
      "text/plain": "array([['Bulka', '1', '1', '1', '0.05', '1.05'],\n       ['Melon', '10', '2', '20', '0.08', '21.6'],\n       ['Szynka', '15', '3', '45', '0.23', '55.35'],\n       [' ', ' ', ' ', ' ', 'DO ZAPLATY: ', '78.0']], dtype='<U32')"
     },
     "execution_count": 400,
     "metadata": {},
     "output_type": "execute_result"
    }
   ],
   "source": [
    "produkty = np.recfromcsv('produkty.csv', delimiter=',', encoding='utf-8')\n",
    "produkty = np.asarray(produkty.tolist())\n",
    "\n",
    "\n",
    "rachunek = np.recfromcsv('rachunek.csv', delimiter=',', encoding='utf-8')\n",
    "rachunek = np.asarray(rachunek.tolist())\n",
    "N = produkty.T[0].ravel()\n",
    "C = produkty.T[1].astype('int32').ravel()\n",
    "P = produkty.T[2].astype('float64').ravel()\n",
    "Z = rachunek.astype('int32').ravel()\n",
    "\n",
    "\n",
    "tab = np.array([N, C, Z, C.T * Z, P, C.T * Z + C.T * P * Z])\n",
    "\n",
    "ans = tab.T\n",
    "suma = []\n",
    "for i in range(ans.shape[1] - 2):\n",
    "    suma.append(\" \")\n",
    "\n",
    "do_zaplaty = (C + C * P).T @ Z\n",
    "\n",
    "suma.append(\"DO ZAPLATY: \")\n",
    "suma.append(do_zaplaty)\n",
    "\n",
    "ans = np.vstack((ans, suma))\n",
    "ans"
   ],
   "metadata": {
    "collapsed": false,
    "pycharm": {
     "name": "#%%\n"
    }
   }
  },
  {
   "cell_type": "markdown",
   "id": "20d45341",
   "metadata": {
    "pycharm": {
     "name": "#%% md\n"
    }
   },
   "source": [
    "### Zadanie 3\n",
    "\n",
    "#### Zadanie 3 A\n",
    "\n",
    "Utwórz dwa wektory dwuelementowe `A` i `B` (dowolne wartości dodatnie różne od zera).\n",
    "\n",
    "Następnie wykonaj sumowanie elementów obu wektorów i zapisz w zmiennej `C`.\n"
   ]
  },
  {
   "cell_type": "code",
   "execution_count": 401,
   "id": "741e4a50",
   "metadata": {
    "pycharm": {
     "name": "#%%\n"
    }
   },
   "outputs": [
    {
     "name": "stdout",
     "output_type": "stream",
     "text": [
      "[0.15911708 0.66256426]\n",
      "[0.57831141 0.31253093]\n"
     ]
    },
    {
     "data": {
      "text/plain": "array([0.73742849, 0.97509518])"
     },
     "execution_count": 401,
     "metadata": {},
     "output_type": "execute_result"
    }
   ],
   "source": [
    "# <<UZUPEŁNIJ>>\n",
    "\n",
    "# np.random.seed(1)\n",
    "\n",
    "A = np.random.random(2)\n",
    "B = np.random.random(2)\n",
    "print(A)\n",
    "print(B)\n",
    "\n",
    "C = A + B\n",
    "C"
   ]
  },
  {
   "cell_type": "markdown",
   "id": "6825bb23",
   "metadata": {
    "pycharm": {
     "name": "#%% md\n"
    }
   },
   "source": [
    "#### Zadanie 3 B\n",
    "\n",
    "Wyświetl na wykresie:\n",
    "- _wektor wodzący_ (strzałkę) z punktu `(0, 0)` do punktów `A` oraz `B` (w kolorze <font color='green'>zielonym</font>),\n",
    "- _wektor wodzący_ (strzałkę) z punktu `(0, 0)` do punktu `C` (w kolorze <font color='red'>czerwonym</font>)\n",
    "- wektor wodzący z punktu `A` do punktu `C` (w kolorze <font color='blue'>niebieskim</font>),\n",
    "- wektor wodzący z punktu `B` do punktu `C` (w kolorze <font color='blue'>niebieskim</font>)."
   ]
  },
  {
   "cell_type": "code",
   "execution_count": 402,
   "id": "716313db",
   "metadata": {
    "pycharm": {
     "name": "#%%\n"
    }
   },
   "outputs": [
    {
     "name": "stdout",
     "output_type": "stream",
     "text": [
      "[0.57831141 0.31253093]\n",
      "[0.15911708 0.66256426]\n"
     ]
    },
    {
     "data": {
      "text/plain": "<Figure size 720x720 with 1 Axes>",
      "image/png": "[encoded data removed]"
     },
     "metadata": {
      "needs_background": "light"
     },
     "output_type": "display_data"
    }
   ],
   "source": [
    "# <<UZUPEŁNIJ>>\n",
    "\n",
    "D = C - A\n",
    "E = C - B\n",
    "print(D)\n",
    "print(E)\n",
    "\n",
    "plt.figure(figsize=(10, 10))\n",
    "plt.arrow(A[0], A[1], D[0], D[1], head_width=0.01, color='blue')\n",
    "plt.arrow(B[0], B[1], E[0], E[1], head_width=0.01, color='blue')\n",
    "plt.arrow(0, 0, A[0], A[1], head_width=0.01, color='green')\n",
    "plt.arrow(0, 0, B[0], B[1], head_width=0.01, color='green')\n",
    "plt.arrow(0, 0, C[0], C[1], head_width=0.01, color='red')\n",
    "\n",
    "plt.show()"
   ]
  },
  {
   "cell_type": "markdown",
   "id": "98e6ec6a",
   "metadata": {
    "pycharm": {
     "name": "#%% md\n"
    }
   },
   "source": [
    "### Zadanie 4\n",
    "\n",
    "Wygeneruj losową macierz 8×8 wg rozkładu Gaussa (średnia: 100, odch. std = 15),\n",
    "wartości zaokrąglij do liczb całkowitych (int). Macierz ta reprezentuje pewien obraz (w skali szarości).\n",
    "\n",
    "Następnie zastosuj filtr uśredniający o masce 3×3 dla elementów wewnętrznych (tj. poza brzegiem) tej macierzy i wypisz wynik. W filtrze uśredniającym zastosuj zaokrąglanie w dół do liczby całkowitej.\n",
    "\n",
    "_Podpowiedź: generacja danych: np.random.normal, np.round._"
   ]
  },
  {
   "cell_type": "code",
   "execution_count": 403,
   "id": "9616e1f3",
   "metadata": {
    "pycharm": {
     "name": "#%%\n"
    }
   },
   "outputs": [
    {
     "name": "stdout",
     "output_type": "stream",
     "text": [
      "0 0\n",
      "95.0\n",
      "[[ 88. 100. 107.]\n",
      " [ 86. 103. 108.]\n",
      " [ 96.  79.  90.]]\n",
      "0 1\n",
      "99.0\n",
      "[[100. 107.  99.]\n",
      " [103. 108.  89.]\n",
      " [ 79.  90. 117.]]\n",
      "0 2\n",
      "101.0\n",
      "[[107.  99. 103.]\n",
      " [108.  89. 108.]\n",
      " [ 90. 117.  88.]]\n",
      "0 3\n",
      "100.0\n",
      "[[ 99. 103.  95.]\n",
      " [ 89. 108.  99.]\n",
      " [117.  88. 105.]]\n",
      "0 4\n",
      "100.0\n",
      "[[103.  95. 111.]\n",
      " [108.  99. 106.]\n",
      " [ 88. 105.  93.]]\n",
      "0 5\n",
      "102.0\n",
      "[[ 95. 111.  95.]\n",
      " [ 99. 106. 125.]\n",
      " [105.  93.  92.]]\n",
      "1 0\n",
      "96.0\n",
      "[[ 86. 103. 108.]\n",
      " [ 96.  79.  90.]\n",
      " [ 95.  92. 118.]]\n",
      "1 1\n",
      "100.0\n",
      "[[103. 108.  89.]\n",
      " [ 79.  90. 117.]\n",
      " [ 92. 118. 108.]]\n",
      "1 2\n",
      "104.0\n",
      "[[108.  89. 108.]\n",
      " [ 90. 117.  88.]\n",
      " [118. 108. 112.]]\n",
      "1 3\n",
      "101.0\n",
      "[[ 89. 108.  99.]\n",
      " [117.  88. 105.]\n",
      " [108. 112.  85.]]\n",
      "1 4\n",
      "98.0\n",
      "[[108.  99. 106.]\n",
      " [ 88. 105.  93.]\n",
      " [112.  85.  91.]]\n",
      "1 5\n",
      "99.0\n",
      "[[ 99. 106. 125.]\n",
      " [105.  93.  92.]\n",
      " [ 85.  91. 102.]]\n",
      "2 0\n",
      "93.0\n",
      "[[ 96.  79.  90.]\n",
      " [ 95.  92. 118.]\n",
      " [ 85.  98.  88.]]\n",
      "2 1\n",
      "99.0\n",
      "[[ 79.  90. 117.]\n",
      " [ 92. 118. 108.]\n",
      " [ 98.  88. 104.]]\n",
      "2 2\n",
      "102.0\n",
      "[[ 90. 117.  88.]\n",
      " [118. 108. 112.]\n",
      " [ 88. 104.  96.]]\n",
      "2 3\n",
      "102.0\n",
      "[[117.  88. 105.]\n",
      " [108. 112.  85.]\n",
      " [104.  96. 106.]]\n",
      "2 4\n",
      "99.0\n",
      "[[ 88. 105.  93.]\n",
      " [112.  85.  91.]\n",
      " [ 96. 106. 122.]]\n",
      "2 5\n",
      "98.0\n",
      "[[105.  93.  92.]\n",
      " [ 85.  91. 102.]\n",
      " [106. 122.  91.]]\n",
      "3 0\n",
      "100.0\n",
      "[[ 95.  92. 118.]\n",
      " [ 85.  98.  88.]\n",
      " [109. 102. 119.]]\n",
      "3 1\n",
      "105.0\n",
      "[[ 92. 118. 108.]\n",
      " [ 98.  88. 104.]\n",
      " [102. 119. 120.]]\n",
      "3 2\n",
      "107.0\n",
      "[[118. 108. 112.]\n",
      " [ 88. 104.  96.]\n",
      " [119. 120. 106.]]\n",
      "3 3\n",
      "103.0\n",
      "[[108. 112.  85.]\n",
      " [104.  96. 106.]\n",
      " [120. 106.  95.]]\n",
      "3 4\n",
      "101.0\n",
      "[[112.  85.  91.]\n",
      " [ 96. 106. 122.]\n",
      " [106.  95.  98.]]\n",
      "3 5\n",
      "101.0\n",
      "[[ 85.  91. 102.]\n",
      " [106. 122.  91.]\n",
      " [ 95.  98. 121.]]\n",
      "4 0\n",
      "99.0\n",
      "[[ 85.  98.  88.]\n",
      " [109. 102. 119.]\n",
      " [ 80. 116.  97.]]\n",
      "4 1\n",
      "102.0\n",
      "[[ 98.  88. 104.]\n",
      " [102. 119. 120.]\n",
      " [116.  97.  74.]]\n",
      "4 2\n",
      "103.0\n",
      "[[ 88. 104.  96.]\n",
      " [119. 120. 106.]\n",
      " [ 97.  74. 128.]]\n",
      "4 3\n",
      "104.0\n",
      "[[104.  96. 106.]\n",
      " [120. 106.  95.]\n",
      " [ 74. 128. 113.]]\n",
      "4 4\n",
      "105.0\n",
      "[[ 96. 106. 122.]\n",
      " [106.  95.  98.]\n",
      " [128. 113.  87.]]\n",
      "4 5\n",
      "101.0\n",
      "[[106. 122.  91.]\n",
      " [ 95.  98. 121.]\n",
      " [113.  87.  84.]]\n",
      "5 0\n",
      "100.0\n",
      "[[109. 102. 119.]\n",
      " [ 80. 116.  97.]\n",
      " [ 86.  95. 100.]]\n",
      "5 1\n",
      "103.0\n",
      "[[102. 119. 120.]\n",
      " [116.  97.  74.]\n",
      " [ 95. 100. 105.]]\n",
      "5 2\n",
      "104.0\n",
      "[[119. 120. 106.]\n",
      " [ 97.  74. 128.]\n",
      " [100. 105.  93.]]\n",
      "5 3\n",
      "102.0\n",
      "[[120. 106.  95.]\n",
      " [ 74. 128. 113.]\n",
      " [105.  93.  87.]]\n",
      "5 4\n",
      "99.0\n",
      "[[106.  95.  98.]\n",
      " [128. 113.  87.]\n",
      " [ 93.  87.  87.]]\n",
      "5 5\n",
      "92.0\n",
      "[[ 95.  98. 121.]\n",
      " [113.  87.  84.]\n",
      " [ 87.  87.  60.]]\n"
     ]
    },
    {
     "data": {
      "text/plain": "array([[ 88., 100., 107.,  99., 103.,  95., 111.,  95.],\n       [ 86., 103., 108.,  89., 108.,  99., 106., 125.],\n       [ 96.,  79.,  90., 117.,  88., 105.,  93.,  92.],\n       [ 95.,  92., 118., 108., 112.,  85.,  91., 102.],\n       [ 85.,  98.,  88., 104.,  96., 106., 122.,  91.],\n       [109., 102., 119., 120., 106.,  95.,  98., 121.],\n       [ 80., 116.,  97.,  74., 128., 113.,  87.,  84.],\n       [ 86.,  95., 100., 105.,  93.,  87.,  87.,  60.]])"
     },
     "execution_count": 403,
     "metadata": {},
     "output_type": "execute_result"
    }
   ],
   "source": [
    "# <<UZUPEŁNIJ>>\n",
    "\n",
    "np.random.seed(696969)\n",
    "\n",
    "macierz = np.random.normal(100, 15, (8,8))\n",
    "macierz = macierz.round()\n",
    "nowa = np.empty(shape=(macierz.shape[0] - 2, macierz.shape[1] - 2))\n",
    "\n",
    "for j in range(0, len(nowa)):\n",
    "    for i in range(0, len(nowa)):\n",
    "        nowa[j][i] = np.floor(macierz[j:j+3, i:i+3].mean())\n",
    "        print(j, i)\n",
    "        print(nowa[j][i])\n",
    "        print(macierz[j:j+3, i:i+3])\n",
    "\n",
    "macierz"
   ]
  },
  {
   "cell_type": "code",
   "execution_count": 404,
   "outputs": [
    {
     "data": {
      "text/plain": "array([[ 95.,  99., 101., 100., 100., 102.],\n       [ 96., 100., 104., 101.,  98.,  99.],\n       [ 93.,  99., 102., 102.,  99.,  98.],\n       [100., 105., 107., 103., 101., 101.],\n       [ 99., 102., 103., 104., 105., 101.],\n       [100., 103., 104., 102.,  99.,  92.]])"
     },
     "execution_count": 404,
     "metadata": {},
     "output_type": "execute_result"
    }
   ],
   "source": [
    "nowa"
   ],
   "metadata": {
    "collapsed": false,
    "pycharm": {
     "name": "#%%\n"
    }
   }
  }
 ],
 "metadata": {
  "author": {
   "email": "robert.susik@p.lodz.pl",
   "name": "Robert Susik"
  },
  "kernelspec": {
   "display_name": "Python 3 (ipykernel)",
   "language": "python",
   "name": "python3"
  },
  "language_info": {
   "codemirror_mode": {
    "name": "ipython",
    "version": 3
   },
   "file_extension": ".py",
   "mimetype": "text/x-python",
   "name": "python",
   "nbconvert_exporter": "python",
   "pygments_lexer": "ipython3",
   "version": "3.8.11"
  },
  "toc": {
   "base_numbering": 1,
   "nav_menu": {},
   "number_sections": true,
   "sideBar": true,
   "skip_h1_title": false,
   "title_cell": "Table of Contents",
   "title_sidebar": "Contents",
   "toc_cell": false,
   "toc_position": {},
   "toc_section_display": true,
   "toc_window_display": false
  }
 },
 "nbformat": 4,
 "nbformat_minor": 5
}