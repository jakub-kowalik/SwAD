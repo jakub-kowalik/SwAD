{
 "cells": [
  {
   "cell_type": "markdown",
   "id": "59b5dc28",
   "metadata": {
    "pycharm": {
     "name": "#%% md\n"
    }
   },
   "source": [
    "# Algorytmika i matematyka uczenia maszynowego \n",
    "## Laboratorium 7\n"
   ]
  },
  {
   "cell_type": "markdown",
   "id": "01f97ff3",
   "metadata": {
    "pycharm": {
     "name": "#%% md\n"
    }
   },
   "source": [
    "### Zadanie 1\n",
    "\n",
    "Z miasta A do miasta B kierowca przejechał ze średnią szybkością 60 km/h. Z powrotem jechał szybciej, ze średnią 80 km/h. Jaka była jego średnia szybkość na całej trasie? \n",
    "\n",
    "**Uwaga:** nie używaj gotowych implementacji.\n",
    "\n",
    "> Wskazówka: średnia harmoniczna."
   ]
  },
  {
   "cell_type": "code",
   "execution_count": 10,
   "id": "b7313777",
   "metadata": {
    "pycharm": {
     "name": "#%%\n"
    }
   },
   "outputs": [
    {
     "name": "stdout",
     "output_type": "stream",
     "text": [
      "68.57142857142857\n"
     ]
    }
   ],
   "source": [
    "# << UZUPEŁNIJ >>\n",
    "import random\n",
    "import time\n",
    "\n",
    "\n",
    "def harmonic_mean(values: list):\n",
    "    n = len(values)\n",
    "    sum_of_inverses = 0\n",
    "    for v in values:\n",
    "        sum_of_inverses += 1/v\n",
    "\n",
    "    return n / sum_of_inverses\n",
    "\n",
    "print(harmonic_mean([60, 80]))"
   ]
  },
  {
   "cell_type": "markdown",
   "id": "ca4e7af2",
   "metadata": {
    "pycharm": {
     "name": "#%% md\n"
    }
   },
   "source": [
    "### Zadanie 2\n",
    "\n",
    "Wyobraźmy sobie miasto o liczbie 700 tys. mieszkańców. W mieście pojawiła się choroba i wiemy, że jedna osoba na 1000 zachorowała. Nie wiemy, które to dokładnie osoby, ale jest dostępny test, którego skuteczność wynosi 99%. Teraz wcielamy się w pacjenta, który przeprowadził test, a wynik testu jest pozytywny. Chcemy dowiedzieć się, jakie jest prawdopodobieństwo, że zachorowaliśmy.\n",
    "\n",
    "#### A)\n",
    "\n",
    "Przeprowadzić symulację komputerową:\n",
    "\n",
    "- Generujemy listę wielkości 700 tys.\n",
    "- Losowo wybieramy 700 tys./1000 (bo jedna na 1000 osob zachorowała) osób i zaznaczamy je jako chore.\n",
    "- Wybieramy losowo po 1% osob chorych i zdrowych, a następnie zaznaczamy ich diagnoze na nieprawidlowa (bo skutecznosc testu wynosi 99%).\n",
    "- Oblicz jakie jest prawdopodobienstwo ze osoba z pozytywnym wynikiem testu jest faktycznie chora (`liczba osób chorych z wynikiem pozytywnym` / `liczba wszystkich osob z wynikiem pozytywnym`).\n",
    "\n"
   ]
  },
  {
   "cell_type": "code",
   "execution_count": 11,
   "id": "0fea1c5d",
   "metadata": {
    "pycharm": {
     "name": "#%%\n"
    }
   },
   "outputs": [
    {
     "name": "stdout",
     "output_type": "stream",
     "text": [
      "0\n",
      "0.09016393442622951\n",
      "Czas: 0.06697549999999808\n"
     ]
    }
   ],
   "source": [
    "# << UZUPEŁNIJ >>\n",
    "import numpy as np\n",
    "import random\n",
    "import time\n",
    "\n",
    "# 0 - zdrowy,\n",
    "# 1 - chory,\n",
    "# 2 - zdrowy zly wynik\n",
    "# 3 - chory zly wynik,\n",
    "\n",
    "czasek = time.perf_counter()\n",
    "\n",
    "citizens = [0 for i in range(700_000)]\n",
    "\n",
    "number_of_sick = round(len(citizens) / 1000)\n",
    "\n",
    "\n",
    "for i in range(0, number_of_sick):\n",
    "    citizens[i] = 1\n",
    "\n",
    "false_positive = 0.01 * citizens.count(0)\n",
    "false_negative = 0.01 * citizens.count(1)\n",
    "\n",
    "print(citizens[number_of_sick])\n",
    "\n",
    "for i in range(number_of_sick, int(false_positive) + number_of_sick):\n",
    "    citizens[i] = 2\n",
    "\n",
    "for i in range(0, int(false_negative)):\n",
    "    citizens[i] = 3\n",
    "\n",
    "print((citizens.count(1)) / (citizens.count(1) + citizens.count(2)))\n",
    "\n",
    "print('Czas:', time.perf_counter() - czasek)"
   ]
  },
  {
   "cell_type": "markdown",
   "id": "46aa035b",
   "metadata": {
    "pycharm": {
     "name": "#%% md\n"
    }
   },
   "source": [
    "#### B)\n",
    "\n",
    "Napisać funkcję, która zwróci wynik obliczony ze wzoru Bayesa. Zmierz i porównaj czas obliczeń w zad. A i zad. B\n",
    "\n"
   ]
  },
  {
   "cell_type": "code",
   "execution_count": 12,
   "id": "1119d040",
   "metadata": {
    "pycharm": {
     "name": "#%%\n"
    }
   },
   "outputs": [
    {
     "name": "stdout",
     "output_type": "stream",
     "text": [
      "0.09016393442622944\n",
      "Czas: 0.0005678000000131078\n"
     ]
    }
   ],
   "source": [
    "# << UZUPEŁNIJ >>\n",
    "\n",
    "def bayes(sick_percentage, healthy_percentage, effectivness_sick, effectivenss_healthy):\n",
    "    PD = sick_percentage\n",
    "    PN = healthy_percentage\n",
    "    P_p_D = effectivness_sick\n",
    "    P_m_N = effectivenss_healthy\n",
    "    P_p_N = 1-P_m_N\n",
    "\n",
    "    return (P_p_D * PD) / ((P_p_D * PD) + (P_p_N * PN))\n",
    "\n",
    "czasek = time.perf_counter()\n",
    "print(bayes(0.001, 0.999, 0.99, 0.99))\n",
    "print('Czas:', time.perf_counter() - czasek)"
   ]
  },
  {
   "cell_type": "markdown",
   "id": "2850f724",
   "metadata": {
    "pycharm": {
     "name": "#%% md\n"
    }
   },
   "source": [
    "#### C)\n",
    "\n",
    "Wyświetl wykres, gdzie na osi X znajduje się _czułość testu_ a na osi Y znajduje się _prawdopodobieństwo, że osoba z pozytywnym wynikiem jest chora_."
   ]
  },
  {
   "cell_type": "code",
   "execution_count": 13,
   "id": "7359c283",
   "metadata": {
    "pycharm": {
     "name": "#%%\n"
    }
   },
   "outputs": [
    {
     "data": {
      "text/plain": "[<matplotlib.lines.Line2D at 0x28c796dce20>]"
     },
     "execution_count": 13,
     "metadata": {},
     "output_type": "execute_result"
    },
    {
     "data": {
      "text/plain": "<Figure size 720x720 with 1 Axes>",
      "image/png": "[encoded data removed]"
     },
     "metadata": {
      "needs_background": "light"
     },
     "output_type": "display_data"
    }
   ],
   "source": [
    "# << UZUPEŁNIJ >>\n",
    "\n",
    "import matplotlib.pyplot as plt\n",
    "x = [z/100 for z in range(0, 101)]\n",
    "y = [bayes(0.001, 0.999, z, z) for z in x]\n",
    "\n",
    "plt.figure(figsize=(10, 10))\n",
    "# plt.yscale('log')\n",
    "plt.xticks([z/10 for z in range(0, 11)])\n",
    "plt.plot(x, y)"
   ]
  },
  {
   "cell_type": "markdown",
   "id": "2b0253f8",
   "metadata": {
    "pycharm": {
     "name": "#%% md\n"
    }
   },
   "source": [
    "### Zadanie 3\n",
    "\n",
    "Sprawdź (symulacją) jak często trafia się \"ręka\" zawierająca $\\ge 8$ kart w jednym kolorze z 13 kart. Czyli losujemy 13 kart z 52 (wiec \"ręki\" jak w brydzu) tak długo, aż w jakimś kolorze dostaniemy $\\ge 8$ kart. Przeprowadź 1000 takich prob i oblicz średnią. Dodatkowo wypisz jedną (np. ostatnią) taką wylosowaną rękę."
   ]
  },
  {
   "cell_type": "code",
   "execution_count": 14,
   "id": "622ec278",
   "metadata": {
    "pycharm": {
     "name": "#%%\n"
    }
   },
   "outputs": [
    {
     "name": "stdout",
     "output_type": "stream",
     "text": [
      "Ostatnia wylosowana reka:  [('trefl', '8'), ('karo', '10'), ('pik', 'krol'), ('pik', 'dama'), ('pik', '5'), ('kier', '6'), ('pik', '8'), ('pik', '4'), ('trefl', 'as'), ('pik', '9'), ('kier', '7'), ('pik', 'as'), ('pik', '3')]\n",
      "Srednia ilosc losowan do uzyskania warunku:  204.488\n"
     ]
    }
   ],
   "source": [
    "# << UZUPEŁNIJ >>\n",
    "from collections import Counter\n",
    "\n",
    "kolory = ['pik', 'kier', 'trefl', 'karo']\n",
    "\n",
    "figury = ['2', '3', '4', '5', '6', '7', '8', '9', '10', 'walet', 'dama', 'krol', 'as']\n",
    "\n",
    "talia = []\n",
    "\n",
    "for k in kolory:\n",
    "    for f in figury:\n",
    "        talia.append((k, f))\n",
    "\n",
    "random.shuffle(talia)\n",
    "\n",
    "reka = [talia[i] for i in range(13)]\n",
    "srednie = []\n",
    "\n",
    "for i in range(1000):\n",
    "    flag = True\n",
    "    counter = 0\n",
    "    while flag:\n",
    "        counter += 1\n",
    "        random.shuffle(talia)\n",
    "        reka = [talia[i] for i in range(13)]\n",
    "        vals = tuple(Counter(x[0] for x in reka).values())\n",
    "        for v in vals:\n",
    "            if v >= 8:\n",
    "                flag = False\n",
    "                break\n",
    "    srednie.append(counter)\n",
    "    pass\n",
    "\n",
    "print('Ostatnia wylosowana reka: ', reka)\n",
    "print('Srednia ilosc losowan do uzyskania warunku: ', (sum(srednie) / len(srednie)))"
   ]
  }
 ],
 "metadata": {
  "author": {
   "email": "robert.susik@p.lodz.pl",
   "name": "Robert Susik"
  },
  "kernelspec": {
   "display_name": "Python 3 (ipykernel)",
   "language": "python",
   "name": "python3"
  },
  "language_info": {
   "codemirror_mode": {
    "name": "ipython",
    "version": 3
   },
   "file_extension": ".py",
   "mimetype": "text/x-python",
   "name": "python",
   "nbconvert_exporter": "python",
   "pygments_lexer": "ipython3",
   "version": "3.8.13"
  },
  "toc": {
   "base_numbering": 1,
   "nav_menu": {},
   "number_sections": true,
   "sideBar": true,
   "skip_h1_title": false,
   "title_cell": "Table of Contents",
   "title_sidebar": "Contents",
   "toc_cell": false,
   "toc_position": {},
   "toc_section_display": true,
   "toc_window_display": false
  }
 },
 "nbformat": 4,
 "nbformat_minor": 5
}